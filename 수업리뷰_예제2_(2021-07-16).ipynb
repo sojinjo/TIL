{
 "cells": [
  {
   "cell_type": "markdown",
   "id": "30390ca7",
   "metadata": {},
   "source": [
    "## 공공데이터를 이용한 지역별 브랜드별 카페정보확인(2021)"
   ]
  },
  {
   "cell_type": "markdown",
   "id": "05407433",
   "metadata": {},
   "source": [
    "### 공공데이터에서 관련 데이터 수집 후 카페 업종 현황 확인\n",
    "\n",
    "- 전국 카페 데이터를 모두 수집\n",
    "- 서울 지역의 점포 현황 확인\n",
    "\n",
    "데이터 : https://www.data.go.kr/data/15083033/fileData.do (소상공인시장진흥공단_상가(상권)정보)\n",
    "\n"
   ]
  },
  {
   "cell_type": "code",
   "execution_count": 1,
   "id": "bf87f59c",
   "metadata": {},
   "outputs": [],
   "source": [
    "# 라이브러리를 불러옵니다.\n",
    "import pandas as pd\n",
    "import numpy as np"
   ]
  },
  {
   "cell_type": "code",
   "execution_count": 2,
   "id": "60967d55",
   "metadata": {},
   "outputs": [],
   "source": [
    "from IPython.core.interactiveshell import InteractiveShell\n",
    "InteractiveShell.ast_node_interactivity=\"all\"\n"
   ]
  },
  {
   "cell_type": "markdown",
   "id": "36f50c6f",
   "metadata": {},
   "source": [
    "### 데이터 불러오기"
   ]
  },
  {
   "cell_type": "code",
   "execution_count": 5,
   "id": "c6198032",
   "metadata": {},
   "outputs": [
    {
     "data": {
      "text/html": [
       "<div>\n",
       "<style scoped>\n",
       "    .dataframe tbody tr th:only-of-type {\n",
       "        vertical-align: middle;\n",
       "    }\n",
       "\n",
       "    .dataframe tbody tr th {\n",
       "        vertical-align: top;\n",
       "    }\n",
       "\n",
       "    .dataframe thead th {\n",
       "        text-align: right;\n",
       "    }\n",
       "</style>\n",
       "<table border=\"1\" class=\"dataframe\">\n",
       "  <thead>\n",
       "    <tr style=\"text-align: right;\">\n",
       "      <th></th>\n",
       "      <th>상가업소번호</th>\n",
       "      <th>상호명</th>\n",
       "      <th>지점명</th>\n",
       "      <th>상권업종대분류코드</th>\n",
       "      <th>상권업종대분류명</th>\n",
       "      <th>상권업종중분류코드</th>\n",
       "      <th>상권업종중분류명</th>\n",
       "      <th>상권업종소분류코드</th>\n",
       "      <th>상권업종소분류명</th>\n",
       "      <th>표준산업분류코드</th>\n",
       "      <th>...</th>\n",
       "      <th>건물관리번호</th>\n",
       "      <th>건물명</th>\n",
       "      <th>도로명주소</th>\n",
       "      <th>구우편번호</th>\n",
       "      <th>신우편번호</th>\n",
       "      <th>동정보</th>\n",
       "      <th>층정보</th>\n",
       "      <th>호정보</th>\n",
       "      <th>경도</th>\n",
       "      <th>위도</th>\n",
       "    </tr>\n",
       "  </thead>\n",
       "  <tbody>\n",
       "    <tr>\n",
       "      <th>0</th>\n",
       "      <td>23498449</td>\n",
       "      <td>츄로하임</td>\n",
       "      <td>NaN</td>\n",
       "      <td>Q</td>\n",
       "      <td>음식</td>\n",
       "      <td>Q01</td>\n",
       "      <td>한식</td>\n",
       "      <td>Q01A01</td>\n",
       "      <td>한식/백반/한정식</td>\n",
       "      <td>I56111</td>\n",
       "      <td>...</td>\n",
       "      <td>2826010400109750004000001</td>\n",
       "      <td>청라반도유보라</td>\n",
       "      <td>인천광역시 서구 솔빛로 55</td>\n",
       "      <td>404170.0</td>\n",
       "      <td>22765.0</td>\n",
       "      <td>NaN</td>\n",
       "      <td>NaN</td>\n",
       "      <td>102</td>\n",
       "      <td>126.62674</td>\n",
       "      <td>37.525163</td>\n",
       "    </tr>\n",
       "  </tbody>\n",
       "</table>\n",
       "<p>1 rows × 39 columns</p>\n",
       "</div>"
      ],
      "text/plain": [
       "     상가업소번호   상호명  지점명 상권업종대분류코드 상권업종대분류명 상권업종중분류코드 상권업종중분류명 상권업종소분류코드  \\\n",
       "0  23498449  츄로하임  NaN         Q       음식       Q01       한식    Q01A01   \n",
       "\n",
       "    상권업종소분류명 표준산업분류코드  ...                     건물관리번호      건물명  \\\n",
       "0  한식/백반/한정식   I56111  ...  2826010400109750004000001  청라반도유보라   \n",
       "\n",
       "             도로명주소     구우편번호    신우편번호  동정보  층정보  호정보         경도         위도  \n",
       "0  인천광역시 서구 솔빛로 55  404170.0  22765.0  NaN  NaN  102  126.62674  37.525163  \n",
       "\n",
       "[1 rows x 39 columns]"
      ]
     },
     "execution_count": 5,
     "metadata": {},
     "output_type": "execute_result"
    }
   ],
   "source": [
    "tmp=pd.read_csv('../data/store/소상공인시장진흥공단_상가(상권)정보_인천_202103.csv')\n",
    "tmp.head(1)"
   ]
  },
  {
   "cell_type": "code",
   "execution_count": 6,
   "id": "4c94be73",
   "metadata": {},
   "outputs": [
    {
     "name": "stdout",
     "output_type": "stream",
     "text": [
      "<class 'pandas.core.frame.DataFrame'>\n",
      "RangeIndex: 106707 entries, 0 to 106706\n",
      "Data columns (total 39 columns):\n",
      " #   Column     Non-Null Count   Dtype  \n",
      "---  ------     --------------   -----  \n",
      " 0   상가업소번호     106707 non-null  int64  \n",
      " 1   상호명        106707 non-null  object \n",
      " 2   지점명        16164 non-null   object \n",
      " 3   상권업종대분류코드  106707 non-null  object \n",
      " 4   상권업종대분류명   106707 non-null  object \n",
      " 5   상권업종중분류코드  106707 non-null  object \n",
      " 6   상권업종중분류명   106707 non-null  object \n",
      " 7   상권업종소분류코드  106707 non-null  object \n",
      " 8   상권업종소분류명   106707 non-null  object \n",
      " 9   표준산업분류코드   100224 non-null  object \n",
      " 10  표준산업분류명    100224 non-null  object \n",
      " 11  시도코드       106707 non-null  int64  \n",
      " 12  시도명        106707 non-null  object \n",
      " 13  시군구코드      106707 non-null  int64  \n",
      " 14  시군구명       106707 non-null  object \n",
      " 15  행정동코드      106707 non-null  int64  \n",
      " 16  행정동명       106707 non-null  object \n",
      " 17  법정동코드      106707 non-null  int64  \n",
      " 18  법정동명       106707 non-null  object \n",
      " 19  지번코드       106707 non-null  int64  \n",
      " 20  대지구분코드     106707 non-null  int64  \n",
      " 21  대지구분명      106707 non-null  object \n",
      " 22  지번본번지      106707 non-null  int64  \n",
      " 23  지번부번지      91472 non-null   float64\n",
      " 24  지번주소       106707 non-null  object \n",
      " 25  도로명코드      106707 non-null  int64  \n",
      " 26  도로명        106707 non-null  object \n",
      " 27  건물본번지      106707 non-null  int64  \n",
      " 28  건물부번지      16449 non-null   float64\n",
      " 29  건물관리번호     106707 non-null  object \n",
      " 30  건물명        49290 non-null   object \n",
      " 31  도로명주소      106707 non-null  object \n",
      " 32  구우편번호      106090 non-null  float64\n",
      " 33  신우편번호      106703 non-null  float64\n",
      " 34  동정보        13462 non-null   object \n",
      " 35  층정보        51599 non-null   object \n",
      " 36  호정보        25447 non-null   object \n",
      " 37  경도         106707 non-null  float64\n",
      " 38  위도         106707 non-null  float64\n",
      "dtypes: float64(6), int64(10), object(23)\n",
      "memory usage: 31.8+ MB\n"
     ]
    }
   ],
   "source": [
    "tmp.info()"
   ]
  },
  {
   "cell_type": "code",
   "execution_count": null,
   "id": "c42dec46",
   "metadata": {},
   "outputs": [],
   "source": [
    "### 파일관련 편리한 모듈\n",
    "\n",
    "- pickle : 파일에 읽고 쓰는 작업을 함수를 통해 한번에 진행시켜줌 \n",
    "- globo : 파일들의 리스트를 뽑을떄 사용 / 파일의 경로명과 기호를 이용해서 원하는 파일 경로를 생성해 낼 수 있음\n",
    "- os : 운영체제의 파일 관련 작업 명령에 대한 함수를 제공함 "
   ]
  },
  {
   "cell_type": "code",
   "execution_count": 7,
   "id": "83fa9f0a",
   "metadata": {},
   "outputs": [],
   "source": [
    "# pickle 모듈\n",
    "users =  {'kim':'3kid9', 'sun80':'393948', 'ljm':'py90390'}\n",
    "\n",
    "# 파일에 users data 쓰기\n",
    "f = open('useruser.txt','wb') # wb : 텍스트뿐만아니라 이미지까지 내보낼수있는 것\n",
    "\n",
    "import pickle\n",
    "pickle.dump(users,f) # 데이터 내보내기\n",
    "f.close()"
   ]
  },
  {
   "cell_type": "code",
   "execution_count": 8,
   "id": "efca9e99",
   "metadata": {},
   "outputs": [
    {
     "data": {
      "text/plain": [
       "{'kim': '3kid9', 'sun80': '393948', 'ljm': 'py90390'}"
      ]
     },
     "execution_count": 8,
     "metadata": {},
     "output_type": "execute_result"
    }
   ],
   "source": [
    "f=open('useruser.txt','rb')\n",
    "a=pickle.load(f) # 데이터 가지고 들어오기 \n",
    "a"
   ]
  },
  {
   "cell_type": "code",
   "execution_count": 11,
   "id": "09fe313b",
   "metadata": {},
   "outputs": [
    {
     "data": {
      "text/plain": [
       "True"
      ]
     },
     "execution_count": 11,
     "metadata": {},
     "output_type": "execute_result"
    },
    {
     "data": {
      "text/plain": [
       "True"
      ]
     },
     "execution_count": 11,
     "metadata": {},
     "output_type": "execute_result"
    },
    {
     "data": {
      "text/plain": [
       "False"
      ]
     },
     "execution_count": 11,
     "metadata": {},
     "output_type": "execute_result"
    }
   ],
   "source": [
    "# os 모듈\n",
    "import os #경로에 관련된, 파일이 있는지 없는지 확인\n",
    "\n",
    "os.path.exists('user.txt')  #파일이 경로에 존재한다\n",
    "os.path.exists('useruser.txt') #파일이 경로에 존재한다\n",
    "os.path.exists('userusdfder.txt') #파일이 경로에 존재하지 않는다 "
   ]
  },
  {
   "cell_type": "code",
   "execution_count": 16,
   "id": "6f6326de",
   "metadata": {},
   "outputs": [
    {
     "data": {
      "text/plain": [
       "['date_range함수정리.ipynb',\n",
       " '노트1-1 pandas연습(데이터프레임).ipynb',\n",
       " '노트1-1 pandas연습(시리즈,데이터프레임.기본인덱싱).ipynb',\n",
       " '노트1-2 pandas연습(인덱서loc,iloc).ipynb',\n",
       " '노트1-3 pandas연습(DF 데이터조작,개수,정렬등).ipynb',\n",
       " '노트1-4 pandas연습(데이터병합).ipynb',\n",
       " '노트1-5 pandas연습(피봇테이블).ipynb',\n",
       " '노트1-6 matplotlib 연습.ipynb',\n",
       " '노트북단축키 .ipynb',\n",
       " '리뷰_데이터병합문제.ipynb',\n",
       " '문제 1. 시리즈 연습문제.ipynb',\n",
       " '문제 2. 데이터프레임 연습문제.ipynb',\n",
       " '문제 3. 인덱서문제(loc,iloc).ipynb',\n",
       " '문제 4. 데이터프레임 조작,개수,정렬 문제.ipynb',\n",
       " '문제 5. 데이터병합 문제.ipynb',\n",
       " '문제 6. 피봇테이블 및 그룹연산 연습문제..ipynb',\n",
       " '문제 6. 피봇테이블 및 그룹연산 연습문제.ipynb',\n",
       " '수업리뷰(2021-07-07).ipynb',\n",
       " '수업리뷰(2021-07-08).ipynb',\n",
       " '수업리뷰(2021-07-09).ipynb',\n",
       " '수업리뷰(2021-07-12).ipynb',\n",
       " '수업리뷰(2021-07-13).ipynb',\n",
       " '수업리뷰_예제1_cctv와 인구분석(2021-07-15).ipynb',\n",
       " '수업리뷰_예제2_(2021-07-16).ipynb',\n",
       " '예제1_cctv와 인구분석.ipynb',\n",
       " '예제2_공공데이터를 이용한 지역별 브랜드별 카페정보확인(2021).ipynb']"
      ]
     },
     "execution_count": 16,
     "metadata": {},
     "output_type": "execute_result"
    },
    {
     "data": {
      "text/plain": [
       "['user.txt', 'useruser.txt']"
      ]
     },
     "execution_count": 16,
     "metadata": {},
     "output_type": "execute_result"
    },
    {
     "data": {
      "text/plain": [
       "['../data\\\\01. CCTV_in_Seoul.csv',\n",
       " '../data\\\\2020.10_연체정보.csv',\n",
       " '../data\\\\train.csv',\n",
       " '../data\\\\차주정보.csv',\n",
       " '../data\\\\카드개설정보.csv']"
      ]
     },
     "execution_count": 16,
     "metadata": {},
     "output_type": "execute_result"
    }
   ],
   "source": [
    "# glob 모듈\n",
    "from glob import glob\n",
    "glob('*.ipynb')\n",
    "glob('*.txt')\n",
    "glob('../data/*.csv')"
   ]
  },
  {
   "cell_type": "code",
   "execution_count": null,
   "id": "ba54306c",
   "metadata": {},
   "outputs": [],
   "source": [
    "## 해당 파일 리스트가 디렉터인지 확인\n",
    "from glob import glob\n",
    "from os.path import isdir\n",
    "\n",
    "for x in glob('../data/*'):\n",
    "    if isdir(x):\n",
    "        print(x,\"<DIR>\")\n",
    "    else :\n",
    "        print(x)"
   ]
  },
  {
   "cell_type": "code",
   "execution_count": 17,
   "id": "7f58d6fa",
   "metadata": {},
   "outputs": [
    {
     "data": {
      "text/plain": [
       "['../data/store\\\\소상공인시장진흥공단_상가(상권)정보_강원_202103.csv',\n",
       " '../data/store\\\\소상공인시장진흥공단_상가(상권)정보_경기_202103.csv',\n",
       " '../data/store\\\\소상공인시장진흥공단_상가(상권)정보_경남_202103.csv',\n",
       " '../data/store\\\\소상공인시장진흥공단_상가(상권)정보_경북_202103.csv',\n",
       " '../data/store\\\\소상공인시장진흥공단_상가(상권)정보_광주_202103.csv',\n",
       " '../data/store\\\\소상공인시장진흥공단_상가(상권)정보_대구_202103.csv',\n",
       " '../data/store\\\\소상공인시장진흥공단_상가(상권)정보_대전_202103.csv',\n",
       " '../data/store\\\\소상공인시장진흥공단_상가(상권)정보_부산_202103.csv',\n",
       " '../data/store\\\\소상공인시장진흥공단_상가(상권)정보_서울_202103.csv',\n",
       " '../data/store\\\\소상공인시장진흥공단_상가(상권)정보_세종_202103.csv',\n",
       " '../data/store\\\\소상공인시장진흥공단_상가(상권)정보_울산_202103.csv',\n",
       " '../data/store\\\\소상공인시장진흥공단_상가(상권)정보_인천_202103.csv',\n",
       " '../data/store\\\\소상공인시장진흥공단_상가(상권)정보_전남_202103.csv',\n",
       " '../data/store\\\\소상공인시장진흥공단_상가(상권)정보_전북_202103.csv',\n",
       " '../data/store\\\\소상공인시장진흥공단_상가(상권)정보_제주_202103.csv',\n",
       " '../data/store\\\\소상공인시장진흥공단_상가(상권)정보_충남_202103.csv',\n",
       " '../data/store\\\\소상공인시장진흥공단_상가(상권)정보_충북_202103.csv']"
      ]
     },
     "execution_count": 17,
     "metadata": {},
     "output_type": "execute_result"
    }
   ],
   "source": [
    "# data 폴더에 있는 모든 csv 파일을 읽어오기\n",
    "from glob import glob\n",
    "#csv 목록 불러오기\n",
    "\n",
    "file_names = glob(\"../data/store/*.csv\")\n",
    "file_names"
   ]
  },
  {
   "cell_type": "code",
   "execution_count": 18,
   "id": "af239f49",
   "metadata": {},
   "outputs": [
    {
     "name": "stderr",
     "output_type": "stream",
     "text": [
      "C:\\ProgramData\\Anaconda3\\lib\\site-packages\\IPython\\core\\interactiveshell.py:3165: DtypeWarning: Columns (35) have mixed types.Specify dtype option on import or set low_memory=False.\n",
      "  has_raised = await self.run_ast_nodes(code_ast.body, cell_name,\n"
     ]
    }
   ],
   "source": [
    "# csv 읽어와서 기존 df에 결합 : concat 함수 사용\n",
    "\n",
    "total = pd.DataFrame()\n",
    "\n",
    "# 모든 csv 병합하기\n",
    "for file_name in file_names :\n",
    "    temp = pd.read_csv(file_name, sep=',', encoding='utf-8')\n",
    "    total = pd.concat([total,temp])"
   ]
  },
  {
   "cell_type": "code",
   "execution_count": 23,
   "id": "643a07f8",
   "metadata": {},
   "outputs": [
    {
     "data": {
      "text/plain": [
       "(2233997, 39)"
      ]
     },
     "execution_count": 23,
     "metadata": {},
     "output_type": "execute_result"
    }
   ],
   "source": [
    "total.shape"
   ]
  },
  {
   "cell_type": "code",
   "execution_count": 22,
   "id": "c3e46e62",
   "metadata": {},
   "outputs": [
    {
     "name": "stdout",
     "output_type": "stream",
     "text": [
      "<class 'pandas.core.frame.DataFrame'>\n",
      "Int64Index: 2233997 entries, 0 to 85664\n",
      "Data columns (total 39 columns):\n",
      " #   Column     Dtype  \n",
      "---  ------     -----  \n",
      " 0   상가업소번호     int64  \n",
      " 1   상호명        object \n",
      " 2   지점명        object \n",
      " 3   상권업종대분류코드  object \n",
      " 4   상권업종대분류명   object \n",
      " 5   상권업종중분류코드  object \n",
      " 6   상권업종중분류명   object \n",
      " 7   상권업종소분류코드  object \n",
      " 8   상권업종소분류명   object \n",
      " 9   표준산업분류코드   object \n",
      " 10  표준산업분류명    object \n",
      " 11  시도코드       int64  \n",
      " 12  시도명        object \n",
      " 13  시군구코드      int64  \n",
      " 14  시군구명       object \n",
      " 15  행정동코드      int64  \n",
      " 16  행정동명       object \n",
      " 17  법정동코드      int64  \n",
      " 18  법정동명       object \n",
      " 19  지번코드       int64  \n",
      " 20  대지구분코드     int64  \n",
      " 21  대지구분명      object \n",
      " 22  지번본번지      int64  \n",
      " 23  지번부번지      float64\n",
      " 24  지번주소       object \n",
      " 25  도로명코드      int64  \n",
      " 26  도로명        object \n",
      " 27  건물본번지      int64  \n",
      " 28  건물부번지      float64\n",
      " 29  건물관리번호     object \n",
      " 30  건물명        object \n",
      " 31  도로명주소      object \n",
      " 32  구우편번호      float64\n",
      " 33  신우편번호      float64\n",
      " 34  동정보        object \n",
      " 35  층정보        object \n",
      " 36  호정보        object \n",
      " 37  경도         float64\n",
      " 38  위도         float64\n",
      "dtypes: float64(6), int64(10), object(23)\n",
      "memory usage: 681.8+ MB\n"
     ]
    }
   ],
   "source": [
    "total.info()"
   ]
  },
  {
   "cell_type": "code",
   "execution_count": 25,
   "id": "12628319",
   "metadata": {},
   "outputs": [],
   "source": [
    "# index 재설정\n",
    "total.reset_index(inplace=True,drop=True) \n",
    "# 리셋된 index가 자동으로 데이터 프레임에 자료로 포함되는 것을 방지하려면 drop=True를 사용하면 된다."
   ]
  },
  {
   "cell_type": "code",
   "execution_count": 26,
   "id": "9e1a2b5d",
   "metadata": {},
   "outputs": [
    {
     "name": "stdout",
     "output_type": "stream",
     "text": [
      "<class 'pandas.core.frame.DataFrame'>\n",
      "RangeIndex: 2233997 entries, 0 to 2233996\n",
      "Data columns (total 39 columns):\n",
      " #   Column     Dtype  \n",
      "---  ------     -----  \n",
      " 0   상가업소번호     int64  \n",
      " 1   상호명        object \n",
      " 2   지점명        object \n",
      " 3   상권업종대분류코드  object \n",
      " 4   상권업종대분류명   object \n",
      " 5   상권업종중분류코드  object \n",
      " 6   상권업종중분류명   object \n",
      " 7   상권업종소분류코드  object \n",
      " 8   상권업종소분류명   object \n",
      " 9   표준산업분류코드   object \n",
      " 10  표준산업분류명    object \n",
      " 11  시도코드       int64  \n",
      " 12  시도명        object \n",
      " 13  시군구코드      int64  \n",
      " 14  시군구명       object \n",
      " 15  행정동코드      int64  \n",
      " 16  행정동명       object \n",
      " 17  법정동코드      int64  \n",
      " 18  법정동명       object \n",
      " 19  지번코드       int64  \n",
      " 20  대지구분코드     int64  \n",
      " 21  대지구분명      object \n",
      " 22  지번본번지      int64  \n",
      " 23  지번부번지      float64\n",
      " 24  지번주소       object \n",
      " 25  도로명코드      int64  \n",
      " 26  도로명        object \n",
      " 27  건물본번지      int64  \n",
      " 28  건물부번지      float64\n",
      " 29  건물관리번호     object \n",
      " 30  건물명        object \n",
      " 31  도로명주소      object \n",
      " 32  구우편번호      float64\n",
      " 33  신우편번호      float64\n",
      " 34  동정보        object \n",
      " 35  층정보        object \n",
      " 36  호정보        object \n",
      " 37  경도         float64\n",
      " 38  위도         float64\n",
      "dtypes: float64(6), int64(10), object(23)\n",
      "memory usage: 664.7+ MB\n"
     ]
    }
   ],
   "source": [
    "total.info()"
   ]
  },
  {
   "cell_type": "code",
   "execution_count": 27,
   "id": "aa3d66a8",
   "metadata": {},
   "outputs": [
    {
     "data": {
      "text/html": [
       "<div>\n",
       "<style scoped>\n",
       "    .dataframe tbody tr th:only-of-type {\n",
       "        vertical-align: middle;\n",
       "    }\n",
       "\n",
       "    .dataframe tbody tr th {\n",
       "        vertical-align: top;\n",
       "    }\n",
       "\n",
       "    .dataframe thead th {\n",
       "        text-align: right;\n",
       "    }\n",
       "</style>\n",
       "<table border=\"1\" class=\"dataframe\">\n",
       "  <thead>\n",
       "    <tr style=\"text-align: right;\">\n",
       "      <th></th>\n",
       "      <th>상호명</th>\n",
       "      <th>지점명</th>\n",
       "      <th>상권업종대분류명</th>\n",
       "      <th>상권업종중분류명</th>\n",
       "      <th>시도명</th>\n",
       "      <th>시군구명</th>\n",
       "      <th>행정동명</th>\n",
       "    </tr>\n",
       "  </thead>\n",
       "  <tbody>\n",
       "    <tr>\n",
       "      <th>0</th>\n",
       "      <td>평창라마다호텔</td>\n",
       "      <td>NaN</td>\n",
       "      <td>숙박</td>\n",
       "      <td>호텔/콘도</td>\n",
       "      <td>강원도</td>\n",
       "      <td>평창군</td>\n",
       "      <td>대관령면</td>\n",
       "    </tr>\n",
       "    <tr>\n",
       "      <th>1</th>\n",
       "      <td>호텔탑스텐스카이라운지</td>\n",
       "      <td>NaN</td>\n",
       "      <td>숙박</td>\n",
       "      <td>호텔/콘도</td>\n",
       "      <td>강원도</td>\n",
       "      <td>강릉시</td>\n",
       "      <td>옥계면</td>\n",
       "    </tr>\n",
       "    <tr>\n",
       "      <th>2</th>\n",
       "      <td>동그라미중고타이어</td>\n",
       "      <td>NaN</td>\n",
       "      <td>소매</td>\n",
       "      <td>자동차/자동차용품</td>\n",
       "      <td>강원도</td>\n",
       "      <td>강릉시</td>\n",
       "      <td>포남1동</td>\n",
       "    </tr>\n",
       "    <tr>\n",
       "      <th>3</th>\n",
       "      <td>세인트존스호텔Ohcrab</td>\n",
       "      <td>NaN</td>\n",
       "      <td>숙박</td>\n",
       "      <td>호텔/콘도</td>\n",
       "      <td>강원도</td>\n",
       "      <td>강릉시</td>\n",
       "      <td>초당동</td>\n",
       "    </tr>\n",
       "    <tr>\n",
       "      <th>4</th>\n",
       "      <td>국수나루</td>\n",
       "      <td>NaN</td>\n",
       "      <td>음식</td>\n",
       "      <td>한식</td>\n",
       "      <td>강원도</td>\n",
       "      <td>강릉시</td>\n",
       "      <td>옥천동</td>\n",
       "    </tr>\n",
       "    <tr>\n",
       "      <th>...</th>\n",
       "      <td>...</td>\n",
       "      <td>...</td>\n",
       "      <td>...</td>\n",
       "      <td>...</td>\n",
       "      <td>...</td>\n",
       "      <td>...</td>\n",
       "      <td>...</td>\n",
       "    </tr>\n",
       "    <tr>\n",
       "      <th>2233992</th>\n",
       "      <td>더:예쁨</td>\n",
       "      <td>NaN</td>\n",
       "      <td>생활서비스</td>\n",
       "      <td>이/미용/건강</td>\n",
       "      <td>충청북도</td>\n",
       "      <td>충주시</td>\n",
       "      <td>연수동</td>\n",
       "    </tr>\n",
       "    <tr>\n",
       "      <th>2233993</th>\n",
       "      <td>우리집밥상</td>\n",
       "      <td>NaN</td>\n",
       "      <td>음식</td>\n",
       "      <td>한식</td>\n",
       "      <td>충청북도</td>\n",
       "      <td>음성군</td>\n",
       "      <td>음성읍</td>\n",
       "    </tr>\n",
       "    <tr>\n",
       "      <th>2233994</th>\n",
       "      <td>빅스타</td>\n",
       "      <td>서충주점</td>\n",
       "      <td>음식</td>\n",
       "      <td>한식</td>\n",
       "      <td>충청북도</td>\n",
       "      <td>충주시</td>\n",
       "      <td>대소원면</td>\n",
       "    </tr>\n",
       "    <tr>\n",
       "      <th>2233995</th>\n",
       "      <td>무한닭발</td>\n",
       "      <td>NaN</td>\n",
       "      <td>음식</td>\n",
       "      <td>닭/오리요리</td>\n",
       "      <td>충청북도</td>\n",
       "      <td>청주시 흥덕구</td>\n",
       "      <td>봉명2.송정동</td>\n",
       "    </tr>\n",
       "    <tr>\n",
       "      <th>2233996</th>\n",
       "      <td>모아모아플레이</td>\n",
       "      <td>NaN</td>\n",
       "      <td>음식</td>\n",
       "      <td>한식</td>\n",
       "      <td>충청북도</td>\n",
       "      <td>청주시 상당구</td>\n",
       "      <td>성안동</td>\n",
       "    </tr>\n",
       "  </tbody>\n",
       "</table>\n",
       "<p>2233997 rows × 7 columns</p>\n",
       "</div>"
      ],
      "text/plain": [
       "                   상호명   지점명 상권업종대분류명   상권업종중분류명   시도명     시군구명     행정동명\n",
       "0              평창라마다호텔   NaN       숙박      호텔/콘도   강원도      평창군     대관령면\n",
       "1          호텔탑스텐스카이라운지   NaN       숙박      호텔/콘도   강원도      강릉시      옥계면\n",
       "2            동그라미중고타이어   NaN       소매  자동차/자동차용품   강원도      강릉시     포남1동\n",
       "3        세인트존스호텔Ohcrab   NaN       숙박      호텔/콘도   강원도      강릉시      초당동\n",
       "4                 국수나루   NaN       음식         한식   강원도      강릉시      옥천동\n",
       "...                ...   ...      ...        ...   ...      ...      ...\n",
       "2233992           더:예쁨   NaN    생활서비스    이/미용/건강  충청북도      충주시      연수동\n",
       "2233993          우리집밥상   NaN       음식         한식  충청북도      음성군      음성읍\n",
       "2233994            빅스타  서충주점       음식         한식  충청북도      충주시     대소원면\n",
       "2233995           무한닭발   NaN       음식     닭/오리요리  충청북도  청주시 흥덕구  봉명2.송정동\n",
       "2233996        모아모아플레이   NaN       음식         한식  충청북도  청주시 상당구      성안동\n",
       "\n",
       "[2233997 rows x 7 columns]"
      ]
     },
     "execution_count": 27,
     "metadata": {},
     "output_type": "execute_result"
    }
   ],
   "source": [
    "# 사용할 컬럼만 선택 : 기본 인덱싱 사용 => df[[컬럼1, 컬럼2,....]]\n",
    "\n",
    "data = total[['상호명', '지점명', '상권업종대분류명', '상권업종중분류명', '시도명',\n",
    "             '시군구명', '행정동명']]\n",
    "\n",
    "data"
   ]
  },
  {
   "cell_type": "code",
   "execution_count": 28,
   "id": "7d7eb239",
   "metadata": {},
   "outputs": [
    {
     "name": "stdout",
     "output_type": "stream",
     "text": [
      "<class 'pandas.core.frame.DataFrame'>\n",
      "RangeIndex: 2233997 entries, 0 to 2233996\n",
      "Data columns (total 7 columns):\n",
      " #   Column    Dtype \n",
      "---  ------    ----- \n",
      " 0   상호명       object\n",
      " 1   지점명       object\n",
      " 2   상권업종대분류명  object\n",
      " 3   상권업종중분류명  object\n",
      " 4   시도명       object\n",
      " 5   시군구명      object\n",
      " 6   행정동명      object\n",
      "dtypes: object(7)\n",
      "memory usage: 119.3+ MB\n",
      "<class 'pandas.core.frame.DataFrame'>\n",
      "RangeIndex: 2233997 entries, 0 to 2233996\n",
      "Data columns (total 39 columns):\n",
      " #   Column     Dtype  \n",
      "---  ------     -----  \n",
      " 0   상가업소번호     int64  \n",
      " 1   상호명        object \n",
      " 2   지점명        object \n",
      " 3   상권업종대분류코드  object \n",
      " 4   상권업종대분류명   object \n",
      " 5   상권업종중분류코드  object \n",
      " 6   상권업종중분류명   object \n",
      " 7   상권업종소분류코드  object \n",
      " 8   상권업종소분류명   object \n",
      " 9   표준산업분류코드   object \n",
      " 10  표준산업분류명    object \n",
      " 11  시도코드       int64  \n",
      " 12  시도명        object \n",
      " 13  시군구코드      int64  \n",
      " 14  시군구명       object \n",
      " 15  행정동코드      int64  \n",
      " 16  행정동명       object \n",
      " 17  법정동코드      int64  \n",
      " 18  법정동명       object \n",
      " 19  지번코드       int64  \n",
      " 20  대지구분코드     int64  \n",
      " 21  대지구분명      object \n",
      " 22  지번본번지      int64  \n",
      " 23  지번부번지      float64\n",
      " 24  지번주소       object \n",
      " 25  도로명코드      int64  \n",
      " 26  도로명        object \n",
      " 27  건물본번지      int64  \n",
      " 28  건물부번지      float64\n",
      " 29  건물관리번호     object \n",
      " 30  건물명        object \n",
      " 31  도로명주소      object \n",
      " 32  구우편번호      float64\n",
      " 33  신우편번호      float64\n",
      " 34  동정보        object \n",
      " 35  층정보        object \n",
      " 36  호정보        object \n",
      " 37  경도         float64\n",
      " 38  위도         float64\n",
      "dtypes: float64(6), int64(10), object(23)\n",
      "memory usage: 664.7+ MB\n"
     ]
    }
   ],
   "source": [
    "data.info()\n",
    "total.info()"
   ]
  },
  {
   "cell_type": "code",
   "execution_count": 29,
   "id": "7388239f",
   "metadata": {},
   "outputs": [],
   "source": [
    "del total"
   ]
  },
  {
   "cell_type": "code",
   "execution_count": 30,
   "id": "c6e3d574",
   "metadata": {},
   "outputs": [
    {
     "ename": "NameError",
     "evalue": "name 'total' is not defined",
     "output_type": "error",
     "traceback": [
      "\u001b[1;31m---------------------------------------------------------------------------\u001b[0m",
      "\u001b[1;31mNameError\u001b[0m                                 Traceback (most recent call last)",
      "\u001b[1;32m<ipython-input-30-675a0c330fec>\u001b[0m in \u001b[0;36m<module>\u001b[1;34m\u001b[0m\n\u001b[1;32m----> 1\u001b[1;33m \u001b[0mtotal\u001b[0m\u001b[1;33m.\u001b[0m\u001b[0mhead\u001b[0m\u001b[1;33m(\u001b[0m\u001b[1;33m)\u001b[0m\u001b[1;33m\u001b[0m\u001b[1;33m\u001b[0m\u001b[0m\n\u001b[0m",
      "\u001b[1;31mNameError\u001b[0m: name 'total' is not defined"
     ]
    }
   ],
   "source": [
    "total.head()  #del total을 진행해서 total데이터가 삭제됨"
   ]
  },
  {
   "cell_type": "code",
   "execution_count": 31,
   "id": "6ab40864",
   "metadata": {},
   "outputs": [
    {
     "name": "stdout",
     "output_type": "stream",
     "text": [
      "<class 'pandas.core.frame.DataFrame'>\n",
      "RangeIndex: 2233997 entries, 0 to 2233996\n",
      "Data columns (total 7 columns):\n",
      " #   Column    Dtype \n",
      "---  ------    ----- \n",
      " 0   상호명       object\n",
      " 1   지점명       object\n",
      " 2   상권업종대분류명  object\n",
      " 3   상권업종중분류명  object\n",
      " 4   시도명       object\n",
      " 5   시군구명      object\n",
      " 6   행정동명      object\n",
      "dtypes: object(7)\n",
      "memory usage: 119.3+ MB\n"
     ]
    }
   ],
   "source": [
    "data.info()"
   ]
  },
  {
   "cell_type": "code",
   "execution_count": 34,
   "id": "0033fefa",
   "metadata": {},
   "outputs": [
    {
     "data": {
      "text/plain": [
       "array(['숙박', '소매', '음식', '학문/교육', '생활서비스', '부동산', '관광/여가/오락', '스포츠'],\n",
       "      dtype=object)"
      ]
     },
     "execution_count": 34,
     "metadata": {},
     "output_type": "execute_result"
    },
    {
     "data": {
      "text/plain": [
       "{'PC/오락/당구/볼링등',\n",
       " '가구소매',\n",
       " '가방/신발/액세서리',\n",
       " '가전제품소매',\n",
       " '가정/주방/인테리어',\n",
       " '개인/가정용품수리',\n",
       " '개인서비스',\n",
       " '건강/미용식품',\n",
       " '경마/경륜/성인오락',\n",
       " '광고/인쇄',\n",
       " '기타교육기관',\n",
       " '기타서비스업',\n",
       " '기타음식업',\n",
       " '기타판매업',\n",
       " '놀이/여가/취미',\n",
       " '닭/오리요리',\n",
       " '대중목욕탕/휴게',\n",
       " '대행업',\n",
       " '도서관/독서실',\n",
       " '모텔/여관/여인숙',\n",
       " '무도/유흥/가무',\n",
       " '물품기기대여',\n",
       " '민박/하숙',\n",
       " '법무세무회계',\n",
       " '별식/퓨전요리',\n",
       " '부동산관련서비스',\n",
       " '부동산임대',\n",
       " '부동산중개',\n",
       " '부페',\n",
       " '분식',\n",
       " '분양',\n",
       " '사무/문구/컴퓨터',\n",
       " '사진',\n",
       " '사진/광학/정밀기기소매',\n",
       " '선물/팬시/기념품',\n",
       " '세탁/가사서비스',\n",
       " '스포츠/운동',\n",
       " '시계/귀금속소매',\n",
       " '실내운동시설',\n",
       " '실외운동시설',\n",
       " '애견/애완/동물',\n",
       " '양식',\n",
       " '연구소',\n",
       " '연극/영화/극장',\n",
       " '예술품/골동품/수석/분재',\n",
       " '예식/의례/관혼상제',\n",
       " '요가/단전/마사지',\n",
       " '운동/경기용품소매',\n",
       " '운송/배달/택배',\n",
       " '운영관리시설',\n",
       " '유스호스텔',\n",
       " '유아교육',\n",
       " '유아용품',\n",
       " '유흥주점',\n",
       " '음/식료품소매',\n",
       " '음식배달서비스',\n",
       " '의복의류',\n",
       " '의약/의료품소매',\n",
       " '이/미용/건강',\n",
       " '인력/고용/용역알선',\n",
       " '일식/수산물',\n",
       " '자동차/이륜차',\n",
       " '자동차/자동차용품',\n",
       " '장례/묘지',\n",
       " '전시/관람',\n",
       " '제과제빵떡케익',\n",
       " '종교용품판매',\n",
       " '종합소매점',\n",
       " '주유소/충전소',\n",
       " '주택수리',\n",
       " '중고품소매/교환',\n",
       " '중식',\n",
       " '책/서적/도서',\n",
       " '철물/난방/건설자재소매',\n",
       " '취미/오락관련소매',\n",
       " '캠프/별장/펜션',\n",
       " '커피점/카페',\n",
       " '특수교육기관',\n",
       " '패스트푸드',\n",
       " '페인트/유리제품소매',\n",
       " '평가/개발/관리',\n",
       " '학교',\n",
       " '학문교육기타',\n",
       " '학원-보습교습입시',\n",
       " '학원-어학',\n",
       " '학원-예능취미체육',\n",
       " '학원-음악미술무용',\n",
       " '학원-자격/국가고시',\n",
       " '학원-창업취업취미',\n",
       " '학원-컴퓨터',\n",
       " '학원기타',\n",
       " '한식',\n",
       " '행사/이벤트',\n",
       " '호텔/콘도',\n",
       " '화장품소매'}"
      ]
     },
     "execution_count": 34,
     "metadata": {},
     "output_type": "execute_result"
    },
    {
     "data": {
      "text/plain": [
       "array(['호텔/콘도', '자동차/자동차용품', '한식', '가구소매', '학원기타', '유흥주점', '철물/난방/건설자재소매',\n",
       "       '주유소/충전소', '가방/신발/액세서리', '가정/주방/인테리어', '커피점/카페', '화장품소매', '부동산중개',\n",
       "       '선물/팬시/기념품', '캠프/별장/펜션', '음/식료품소매', '의복의류', '요가/단전/마사지', '기타판매업',\n",
       "       '학원-음악미술무용', '민박/하숙', '세탁/가사서비스', '주택수리', '개인/가정용품수리', '분식',\n",
       "       '종합소매점', '인력/고용/용역알선', '사진/광학/정밀기기소매', '가전제품소매', '학원-어학', '일식/수산물',\n",
       "       '사무/문구/컴퓨터', '이/미용/건강', '제과제빵떡케익', '광고/인쇄', '취미/오락관련소매',\n",
       "       '모텔/여관/여인숙', '자동차/이륜차', '대중목욕탕/휴게', '학원-보습교습입시', '건강/미용식품',\n",
       "       '패스트푸드', '학원-창업취업취미', '닭/오리요리', '중식', '시계/귀금속소매', '중고품소매/교환',\n",
       "       '유아교육', '학원-예능취미체육', '페인트/유리제품소매', '무도/유흥/가무', '유아용품', '운동/경기용품소매',\n",
       "       '놀이/여가/취미', '의약/의료품소매', '대행업', 'PC/오락/당구/볼링등', '분양', '양식',\n",
       "       '학문교육기타', '별식/퓨전요리', '장례/묘지', '물품기기대여', '기타서비스업', '책/서적/도서',\n",
       "       '기타음식업', '도서관/독서실', '운송/배달/택배', '행사/이벤트', '개인서비스', '부페', '사진',\n",
       "       '애견/애완/동물', '음식배달서비스', '예식/의례/관혼상제', '학원-자격/국가고시', '경마/경륜/성인오락',\n",
       "       '스포츠/운동', '실내운동시설', '종교용품판매', '운영관리시설', '예술품/골동품/수석/분재', '전시/관람',\n",
       "       '실외운동시설', '학원-컴퓨터', '평가/개발/관리', '연극/영화/극장', '유스호스텔', '법무세무회계',\n",
       "       '부동산관련서비스', '연구소', '기타교육기관', '부동산임대', '특수교육기관', '학교'], dtype=object)"
      ]
     },
     "execution_count": 34,
     "metadata": {},
     "output_type": "execute_result"
    }
   ],
   "source": [
    "data[\"상권업종대분류명\"].unique()\n",
    "\n",
    "set(data[\"상권업종중분류명\"])\n",
    "data[\"상권업종중분류명\"].unique()"
   ]
  },
  {
   "cell_type": "code",
   "execution_count": 35,
   "id": "460732d5",
   "metadata": {},
   "outputs": [
    {
     "name": "stdout",
     "output_type": "stream",
     "text": [
      "전국 카페 매장 수 :  106710\n"
     ]
    },
    {
     "data": {
      "text/html": [
       "<div>\n",
       "<style scoped>\n",
       "    .dataframe tbody tr th:only-of-type {\n",
       "        vertical-align: middle;\n",
       "    }\n",
       "\n",
       "    .dataframe tbody tr th {\n",
       "        vertical-align: top;\n",
       "    }\n",
       "\n",
       "    .dataframe thead th {\n",
       "        text-align: right;\n",
       "    }\n",
       "</style>\n",
       "<table border=\"1\" class=\"dataframe\">\n",
       "  <thead>\n",
       "    <tr style=\"text-align: right;\">\n",
       "      <th></th>\n",
       "      <th>상호명</th>\n",
       "      <th>지점명</th>\n",
       "      <th>상권업종대분류명</th>\n",
       "      <th>상권업종중분류명</th>\n",
       "      <th>시도명</th>\n",
       "      <th>시군구명</th>\n",
       "      <th>행정동명</th>\n",
       "    </tr>\n",
       "  </thead>\n",
       "  <tbody>\n",
       "    <tr>\n",
       "      <th>0</th>\n",
       "      <td>키즈까페아이사랑</td>\n",
       "      <td>NaN</td>\n",
       "      <td>음식</td>\n",
       "      <td>커피점/카페</td>\n",
       "      <td>강원도</td>\n",
       "      <td>강릉시</td>\n",
       "      <td>성덕동</td>\n",
       "    </tr>\n",
       "    <tr>\n",
       "      <th>1</th>\n",
       "      <td>카페마실</td>\n",
       "      <td>NaN</td>\n",
       "      <td>음식</td>\n",
       "      <td>커피점/카페</td>\n",
       "      <td>강원도</td>\n",
       "      <td>원주시</td>\n",
       "      <td>단계동</td>\n",
       "    </tr>\n",
       "    <tr>\n",
       "      <th>2</th>\n",
       "      <td>힐링</td>\n",
       "      <td>NaN</td>\n",
       "      <td>음식</td>\n",
       "      <td>커피점/카페</td>\n",
       "      <td>강원도</td>\n",
       "      <td>원주시</td>\n",
       "      <td>단구동</td>\n",
       "    </tr>\n",
       "    <tr>\n",
       "      <th>3</th>\n",
       "      <td>드롭탑</td>\n",
       "      <td>속초엑스포점</td>\n",
       "      <td>음식</td>\n",
       "      <td>커피점/카페</td>\n",
       "      <td>강원도</td>\n",
       "      <td>속초시</td>\n",
       "      <td>조양동</td>\n",
       "    </tr>\n",
       "    <tr>\n",
       "      <th>4</th>\n",
       "      <td>상유재카페</td>\n",
       "      <td>NaN</td>\n",
       "      <td>음식</td>\n",
       "      <td>커피점/카페</td>\n",
       "      <td>강원도</td>\n",
       "      <td>정선군</td>\n",
       "      <td>정선읍</td>\n",
       "    </tr>\n",
       "  </tbody>\n",
       "</table>\n",
       "</div>"
      ],
      "text/plain": [
       "        상호명     지점명 상권업종대분류명 상권업종중분류명  시도명 시군구명 행정동명\n",
       "0  키즈까페아이사랑     NaN       음식   커피점/카페  강원도  강릉시  성덕동\n",
       "1      카페마실     NaN       음식   커피점/카페  강원도  원주시  단계동\n",
       "2        힐링     NaN       음식   커피점/카페  강원도  원주시  단구동\n",
       "3       드롭탑  속초엑스포점       음식   커피점/카페  강원도  속초시  조양동\n",
       "4     상유재카페     NaN       음식   커피점/카페  강원도  정선군  정선읍"
      ]
     },
     "execution_count": 35,
     "metadata": {},
     "output_type": "execute_result"
    }
   ],
   "source": [
    "# 카페정보만 추출\n",
    "df_cafe = data[data['상권업종중분류명']=='커피점/카페']\n",
    "\n",
    "df_cafe.reset_index(inplace=True,drop=True)\n",
    "print(\"전국 카페 매장 수 : \",len(df_cafe))\n",
    "df_cafe.head()"
   ]
  },
  {
   "cell_type": "code",
   "execution_count": 37,
   "id": "43719eba",
   "metadata": {},
   "outputs": [
    {
     "data": {
      "text/plain": [
       "{'강원도',\n",
       " '경기도',\n",
       " '경상남도',\n",
       " '경상북도',\n",
       " '광주광역시',\n",
       " '대구광역시',\n",
       " '대전광역시',\n",
       " '부산광역시',\n",
       " '서울특별시',\n",
       " '세종특별자치시',\n",
       " '울산광역시',\n",
       " '인천광역시',\n",
       " '전라남도',\n",
       " '전라북도',\n",
       " '제주특별자치도',\n",
       " '충청남도',\n",
       " '충청북도'}"
      ]
     },
     "execution_count": 37,
     "metadata": {},
     "output_type": "execute_result"
    },
    {
     "data": {
      "text/plain": [
       "17"
      ]
     },
     "execution_count": 37,
     "metadata": {},
     "output_type": "execute_result"
    }
   ],
   "source": [
    "set(data['시도명'])\n",
    "len(set(data['시도명']))"
   ]
  },
  {
   "cell_type": "code",
   "execution_count": 40,
   "id": "f8849f1a",
   "metadata": {},
   "outputs": [
    {
     "data": {
      "text/plain": [
       "range(0, 20391)"
      ]
     },
     "execution_count": 40,
     "metadata": {},
     "output_type": "execute_result"
    },
    {
     "name": "stdout",
     "output_type": "stream",
     "text": [
      "<class 'pandas.core.frame.DataFrame'>\n",
      "RangeIndex: 20391 entries, 0 to 20390\n",
      "Data columns (total 7 columns):\n",
      " #   Column    Non-Null Count  Dtype \n",
      "---  ------    --------------  ----- \n",
      " 0   상호명       20391 non-null  object\n",
      " 1   지점명       7139 non-null   object\n",
      " 2   상권업종대분류명  20391 non-null  object\n",
      " 3   상권업종중분류명  20391 non-null  object\n",
      " 4   시도명       20391 non-null  object\n",
      " 5   시군구명      20391 non-null  object\n",
      " 6   행정동명      20391 non-null  object\n",
      "dtypes: object(7)\n",
      "memory usage: 1.1+ MB\n"
     ]
    }
   ],
   "source": [
    "## 전체 data인 data df에서 서울시의 카페데이터를 추출\n",
    "df_seoul_cafe = data[(data['상권업종중분류명']=='커피점/카페') & (data[\"시도명\"]==\"서울특별시\")]\n",
    "\n",
    "## 인덱스 정리(index속성 이용)\n",
    "range(len(df_seoul_cafe))\n",
    "df_seoul_cafe.index = range(len(df_seoul_cafe))\n",
    "df_seoul_cafe.info()\n",
    "\n",
    "#전국 카페 매장 수 :  106710\n",
    "#서울 카페 매장수 : 20391"
   ]
  }
 ],
 "metadata": {
  "kernelspec": {
   "display_name": "Python 3",
   "language": "python",
   "name": "python3"
  },
  "language_info": {
   "codemirror_mode": {
    "name": "ipython",
    "version": 3
   },
   "file_extension": ".py",
   "mimetype": "text/x-python",
   "name": "python",
   "nbconvert_exporter": "python",
   "pygments_lexer": "ipython3",
   "version": "3.8.8"
  }
 },
 "nbformat": 4,
 "nbformat_minor": 5
}
