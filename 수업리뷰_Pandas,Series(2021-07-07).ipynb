{
 "cells": [
  {
   "cell_type": "markdown",
   "id": "3219b9b0",
   "metadata": {},
   "source": [
    "### Pandas : \n",
    "\n",
    "- 파이썬에서 데이터 분석과 처리를 쉽게 할 수있게 도와주는 것 \n",
    "\n",
    "- Numpy를 기반으로 만들어졌지만 좀 더 복잡한 데이터 분석에 특화\n",
    "\n",
    "- Numpy는 같은 데이터 타입의 배열만 처리가능/ Pandas는 데이터 타입이 다양하게 섞여있을때도 처리가능\n",
    "\n",
    "- series(1차원),DataFrame(2차원,시리즈가 모이면 데이터프레임) 등의 자료구를 활용한 데이터분석 기능을 제공해주는 라이브러리 \n",
    "\n",
    "#### Pandas의 목적 : \n",
    "\n",
    "- 서로 다른 유형의 데이터를 공통된 포맷으로 정리\n",
    "\n",
    "- 행과 열로 이루어진 2차원 데이터 프레임을 처리 할 수있는 함수제공 목적\n",
    "\n",
    "- 실무 사용 형태 : 데이터 프레임\n",
    "\n",
    "\n",
    "\n",
    "#### 자료구조 : 시리즈\n",
    "\n",
    "- 데이터가 순차적으로 나열된 1차원 배열 형태\n",
    "\n",
    "- 인덱스와 데이터값이 일대일로 대응\n",
    "\n",
    "- 딕셔너리와 비슷한 구조 {key(index):value}"
   ]
  },
  {
   "cell_type": "code",
   "execution_count": 2,
   "id": "0e284b9b",
   "metadata": {},
   "outputs": [],
   "source": [
    "# <Series를 활용한 데이터 생성>\n",
    "\n",
    "#1)pandas,numpy 불러오기 :\n",
    "\n",
    "import pandas as pd\n",
    "\n",
    "import numpy as np "
   ]
  },
  {
   "cell_type": "markdown",
   "id": "1329cee7",
   "metadata": {},
   "source": [
    " 2)데이터를 생성하는 가장 기본적인 방법 : Series()\n",
    "\n",
    " 시리즈 형식의 데이터를 생성하는 방법 :\n",
    "\n",
    " s = pd.Serie(seq_data) \n",
    "\n",
    " seq_data로는 리스트와 튜플 타입의 데이터를 모두 사용할수있지만 주로 리스트데이터를 이용한다.  "
   ]
  },
  {
   "cell_type": "code",
   "execution_count": 4,
   "id": "396f4c79",
   "metadata": {},
   "outputs": [
    {
     "name": "stderr",
     "output_type": "stream",
     "text": [
      "<ipython-input-4-f5c0f12a90fe>:3: DeprecationWarning: The default dtype for empty Series will be 'object' instead of 'float64' in a future version. Specify a dtype explicitly to silence this warning.\n",
      "  blank_s = pd.Series()\n"
     ]
    }
   ],
   "source": [
    "#data로만 생성하기 (index는 명시하지 않으면 0부터 자동생성된다)\n",
    "\n",
    "blank_s = pd.Series()"
   ]
  },
  {
   "cell_type": "code",
   "execution_count": 5,
   "id": "2446fb69",
   "metadata": {},
   "outputs": [
    {
     "data": {
      "text/plain": [
       "0    3\n",
       "dtype: int64"
      ]
     },
     "execution_count": 5,
     "metadata": {},
     "output_type": "execute_result"
    }
   ],
   "source": [
    "s0 = pd.Series(3)\n",
    "s0"
   ]
  },
  {
   "cell_type": "code",
   "execution_count": 6,
   "id": "106f8fa8",
   "metadata": {},
   "outputs": [
    {
     "data": {
      "text/plain": [
       "3"
      ]
     },
     "execution_count": 6,
     "metadata": {},
     "output_type": "execute_result"
    }
   ],
   "source": [
    "s0[0]  # 0번 인덱스의 값 출력"
   ]
  },
  {
   "cell_type": "code",
   "execution_count": 7,
   "id": "1834542f",
   "metadata": {},
   "outputs": [
    {
     "data": {
      "text/plain": [
       "0     1\n",
       "1     2\n",
       "2    30\n",
       "dtype: int64"
      ]
     },
     "execution_count": 7,
     "metadata": {},
     "output_type": "execute_result"
    }
   ],
   "source": [
    "# 2개 이상의 원소값을 갖는 시리즈 생성 시 - 리스트,튜플,딕셔너리 등으로 활용\n",
    "s1 = pd.Series([1,2,30])\n",
    "s1"
   ]
  },
  {
   "cell_type": "code",
   "execution_count": 8,
   "id": "d612ab32",
   "metadata": {},
   "outputs": [
    {
     "data": {
      "text/plain": [
       "0      1\n",
       "1    2.0\n",
       "2    3.5\n",
       "3      힘\n",
       "dtype: object"
      ]
     },
     "execution_count": 8,
     "metadata": {},
     "output_type": "execute_result"
    }
   ],
   "source": [
    "# 서로 다른 데이터 타입의 원소를 갖는 리스트를 이용 - 시리즈의 특징 \n",
    "s1_1 = pd.Series([1,2.0,3.5,\"힘\"]) #dtype: object - 숫자와 문자가 혼용되면 문자형태로 시리즈를 만든다 \n",
    "s1_1"
   ]
  },
  {
   "cell_type": "code",
   "execution_count": 9,
   "id": "7d68a1f8",
   "metadata": {},
   "outputs": [
    {
     "data": {
      "text/plain": [
       "0    1.0\n",
       "1    2.0\n",
       "2    3.5\n",
       "3    5.0\n",
       "dtype: float64"
      ]
     },
     "execution_count": 9,
     "metadata": {},
     "output_type": "execute_result"
    }
   ],
   "source": [
    "s1_1 = pd.Series([1,2.0,3.5,5]) #dtype: float64\n",
    "s1_1"
   ]
  },
  {
   "cell_type": "markdown",
   "id": "9a32768d",
   "metadata": {},
   "source": [
    "- 범위를 시리즈의 Value 생성하는데 사용하기 - range() / np.arange() 활용"
   ]
  },
  {
   "cell_type": "code",
   "execution_count": 10,
   "id": "fb076e5f",
   "metadata": {},
   "outputs": [
    {
     "data": {
      "text/plain": [
       "0    10\n",
       "1    11\n",
       "2    12\n",
       "3    13\n",
       "dtype: int64"
      ]
     },
     "execution_count": 10,
     "metadata": {},
     "output_type": "execute_result"
    }
   ],
   "source": [
    "s=pd.Series(range(10,14))\n",
    "s"
   ]
  },
  {
   "cell_type": "code",
   "execution_count": 11,
   "id": "34c909a0",
   "metadata": {},
   "outputs": [
    {
     "name": "stdout",
     "output_type": "stream",
     "text": [
      "0        0\n",
      "1        1\n",
      "2        2\n",
      "3        3\n",
      "4        4\n",
      "      ... \n",
      "195    195\n",
      "196    196\n",
      "197    197\n",
      "198    198\n",
      "199    199\n",
      "Length: 200, dtype: int32\n"
     ]
    }
   ],
   "source": [
    "s = pd.Series(np.arange(200))\n",
    "print(s)"
   ]
  },
  {
   "cell_type": "markdown",
   "id": "646ca1d6",
   "metadata": {},
   "source": [
    "- 결측값을 포함해서 시리즈 만들기 :\n",
    "    - 결측값은 NaN : numpy라는 모듈의 nan 속성을 통해서 생성이 가능 ->\"np.nan\"`"
   ]
  },
  {
   "cell_type": "code",
   "execution_count": 12,
   "id": "4e30a814",
   "metadata": {},
   "outputs": [
    {
     "data": {
      "text/plain": [
       "0    1.0\n",
       "1    2.0\n",
       "2    3.0\n",
       "3    NaN\n",
       "4    6.0\n",
       "5    8.0\n",
       "dtype: float64"
      ]
     },
     "execution_count": 12,
     "metadata": {},
     "output_type": "execute_result"
    }
   ],
   "source": [
    "s = pd.Series([1,2,3,np.nan,6,8]) #결측치 NaN은 float(실수형)으로 처리가 된다\n",
    "s "
   ]
  },
  {
   "cell_type": "markdown",
   "id": "a32ecc7c",
   "metadata": {},
   "source": [
    "- 인덱스를 명시해서 시리즈 만들기\n",
    "- 숫자 인덱스 지정/ 문자 익섹스 지정\n",
    "- 변수 = pd.Series([값1,값2,...],index=[인덱스1,인덱스2,인덱스3,...])"
   ]
  },
  {
   "cell_type": "code",
   "execution_count": 13,
   "id": "2dc82cc0",
   "metadata": {},
   "outputs": [
    {
     "data": {
      "text/plain": [
       "1    10\n",
       "2    20\n",
       "3    30\n",
       "dtype: int64"
      ]
     },
     "execution_count": 13,
     "metadata": {},
     "output_type": "execute_result"
    }
   ],
   "source": [
    "# 인덱스 명시해서 시리즈 생성\n",
    "s = pd.Series([10,20,30], index = [1,2,3])\n",
    "s"
   ]
  },
  {
   "cell_type": "code",
   "execution_count": 14,
   "id": "94b99728",
   "metadata": {},
   "outputs": [
    {
     "data": {
      "text/plain": [
       "Int64Index([1, 2, 3], dtype='int64')"
      ]
     },
     "execution_count": 14,
     "metadata": {},
     "output_type": "execute_result"
    }
   ],
   "source": [
    "s.index  #인덱스만 출력"
   ]
  },
  {
   "cell_type": "code",
   "execution_count": 15,
   "id": "9b157200",
   "metadata": {},
   "outputs": [
    {
     "data": {
      "text/plain": [
       "홍길동    10\n",
       "이몽룡    20\n",
       "성춘향    30\n",
       "dtype: int64"
      ]
     },
     "execution_count": 15,
     "metadata": {},
     "output_type": "execute_result"
    }
   ],
   "source": [
    "# 인덱스 명시해서 시리즈 생성(문자 인덱스로 만들기)\n",
    "s = pd.Series([10,20,30], index=[\"홍길동\",\"이몽룡\",\"성춘향\"])\n",
    "s"
   ]
  },
  {
   "cell_type": "markdown",
   "id": "453b031d",
   "metadata": {},
   "source": [
    " - 인덱스 활용:\n",
    "    - 시리즈는 index는 index속성으로 접근"
   ]
  },
  {
   "cell_type": "code",
   "execution_count": 17,
   "id": "0f424f72",
   "metadata": {},
   "outputs": [
    {
     "data": {
      "text/plain": [
       "Index(['홍길동', '이몽룡', '성춘향'], dtype='object')"
      ]
     },
     "execution_count": 17,
     "metadata": {},
     "output_type": "execute_result"
    }
   ],
   "source": [
    "# 시리즈명. index\n",
    "s.index"
   ]
  },
  {
   "cell_type": "code",
   "execution_count": 18,
   "id": "5f2130a1",
   "metadata": {},
   "outputs": [
    {
     "data": {
      "text/plain": [
       "홍길동    10\n",
       "이몽룡    20\n",
       "성춘향    30\n",
       "dtype: int64"
      ]
     },
     "execution_count": 18,
     "metadata": {},
     "output_type": "execute_result"
    }
   ],
   "source": [
    "s"
   ]
  },
  {
   "cell_type": "code",
   "execution_count": 19,
   "id": "66562437",
   "metadata": {},
   "outputs": [
    {
     "data": {
      "text/plain": [
       "이름\n",
       "홍길동    10\n",
       "이몽룡    20\n",
       "성춘향    30\n",
       "dtype: int64"
      ]
     },
     "execution_count": 19,
     "metadata": {},
     "output_type": "execute_result"
    }
   ],
   "source": [
    "s.index.name=\"이름\"\n",
    "s"
   ]
  },
  {
   "cell_type": "code",
   "execution_count": 20,
   "id": "69eaaedf",
   "metadata": {},
   "outputs": [
    {
     "data": {
      "text/plain": [
       "Index(['서울', '부산', '인천', '대구'], dtype='object')"
      ]
     },
     "execution_count": 20,
     "metadata": {},
     "output_type": "execute_result"
    }
   ],
   "source": [
    "s= pd.Series([9904312,3448737,289045,2466052],\n",
    "index=[\"서울\",\"부산\",\"인천\",\"대구\"]) #dtype='object' datatype = '문자열객체'\n",
    "s.index"
   ]
  },
  {
   "cell_type": "code",
   "execution_count": 21,
   "id": "5e977ec6",
   "metadata": {},
   "outputs": [
    {
     "data": {
      "text/plain": [
       "도시\n",
       "서울    9904312\n",
       "부산    3448737\n",
       "인천     289045\n",
       "대구    2466052\n",
       "dtype: int64"
      ]
     },
     "execution_count": 21,
     "metadata": {},
     "output_type": "execute_result"
    }
   ],
   "source": [
    "s.index.name=\"도시\"\n",
    "s"
   ]
  },
  {
   "cell_type": "code",
   "execution_count": 22,
   "id": "dffbab0f",
   "metadata": {},
   "outputs": [
    {
     "data": {
      "text/plain": [
       "array([9904312, 3448737,  289045, 2466052], dtype=int64)"
      ]
     },
     "execution_count": 22,
     "metadata": {},
     "output_type": "execute_result"
    }
   ],
   "source": [
    "# 시리즈의 실제 값 추출 -> 시리즈.values 속성 사용\n",
    "s.values "
   ]
  },
  {
   "cell_type": "code",
   "execution_count": 23,
   "id": "dfc026b6",
   "metadata": {},
   "outputs": [
    {
     "data": {
      "text/plain": [
       "도시\n",
       "서울    9904312\n",
       "부산    3448737\n",
       "인천     289045\n",
       "대구    2466052\n",
       "Name: 인구, dtype: int64"
      ]
     },
     "execution_count": 23,
     "metadata": {},
     "output_type": "execute_result"
    }
   ],
   "source": [
    "s.name = \"인구\"\n",
    "s"
   ]
  },
  {
   "cell_type": "markdown",
   "id": "b950dbaa",
   "metadata": {},
   "source": [
    "딕셔너리로 시리즈 만들기\n",
    "- Series({key:value,key1:value1....})\n",
    "- 인덱스 -> key\n",
    "- 값 -> value\n",
    "- key가 인덱스로 처리 되므로 명시적으로 인덱스를 설정하게 된다"
   ]
  },
  {
   "cell_type": "code",
   "execution_count": 24,
   "id": "cda85f0f",
   "metadata": {},
   "outputs": [
    {
     "data": {
      "text/plain": [
       "홍길동     96\n",
       "이몽룡    100\n",
       "성춘향     88\n",
       "dtype: int64"
      ]
     },
     "execution_count": 24,
     "metadata": {},
     "output_type": "execute_result"
    }
   ],
   "source": [
    "scores = {'홍길동':96,\"이몽룡\":100,\"성춘향\":88}\n",
    "s = pd.Series(scores)\n",
    "s\n"
   ]
  },
  {
   "cell_type": "code",
   "execution_count": 25,
   "id": "7fd103a8",
   "metadata": {},
   "outputs": [
    {
     "data": {
      "text/plain": [
       "서울    9631482\n",
       "부산    3393191\n",
       "인천    2632035\n",
       "대전    1490158\n",
       "dtype: int64"
      ]
     },
     "execution_count": 25,
     "metadata": {},
     "output_type": "execute_result"
    }
   ],
   "source": [
    "city ={\"서울\":9631482,\"부산\":3393191,\"인천\":2632035,\"대전\":1490158}\n",
    "s = pd.Series(city)\n",
    "s\n"
   ]
  },
  {
   "cell_type": "code",
   "execution_count": null,
   "id": "334a96d4",
   "metadata": {},
   "outputs": [],
   "source": [
    "- 딕셔너리의 원소는 순서를 갖지 않는다.\n",
    "- 딕셔너리로 생성된 시리즈의 원소도 순서가 보장되지 않는다.\n",
    "- 만약 순서를 보장하고 싶으면 인덱스를 리스트로 지정해야 한다."
   ]
  },
  {
   "cell_type": "code",
   "execution_count": 28,
   "id": "2b9a80fd",
   "metadata": {},
   "outputs": [
    {
     "data": {
      "text/plain": [
       "부산    3393191\n",
       "인천    2632035\n",
       "서울    9631482\n",
       "대전    1490158\n",
       "dtype: int64"
      ]
     },
     "execution_count": 28,
     "metadata": {},
     "output_type": "execute_result"
    }
   ],
   "source": [
    "s2 = pd.Series(city,index=[\"부산\",\"인천\",\"서울\",\"대전\"])\n",
    "s2"
   ]
  },
  {
   "cell_type": "markdown",
   "id": "798ff63d",
   "metadata": {},
   "source": [
    "인덱싱 :\n",
    "- 데이터에서 특정한 데이터를 추출하는 것\n",
    "\n",
    "시리즈의 인덱싱 종류\n",
    "1. 정수형 위치 인덱스(integer position)\n",
    "\n",
    "2. 인덱스 이름(index name) 또는 인덱스 라벨(index label)\n",
    "    -  인덱스 별도 지정하지 않으면 0부터 시작하는 정수형 인덱스가 지정됨\n",
    "    \n",
    "- 원소 접근\n",
    "    -   정수형 인덱스 : 숫자 s[0]\n",
    "    -    문자형 인덱스 : 숫자 s[\"인천\"]\n"
   ]
  },
  {
   "cell_type": "code",
   "execution_count": 29,
   "id": "506aee4d",
   "metadata": {},
   "outputs": [
    {
     "name": "stdout",
     "output_type": "stream",
     "text": [
      "Index(['서울', '부산', '인천', '대전'], dtype='object')\n"
     ]
    },
    {
     "data": {
      "text/plain": [
       "서울    9631482\n",
       "부산    3393191\n",
       "인천    2632035\n",
       "대전    1490158\n",
       "dtype: int64"
      ]
     },
     "execution_count": 29,
     "metadata": {},
     "output_type": "execute_result"
    }
   ],
   "source": [
    "print(s.index)\n",
    "s"
   ]
  },
  {
   "cell_type": "code",
   "execution_count": 30,
   "id": "57cb588b",
   "metadata": {},
   "outputs": [
    {
     "data": {
      "text/plain": [
       "9631482"
      ]
     },
     "execution_count": 30,
     "metadata": {},
     "output_type": "execute_result"
    }
   ],
   "source": [
    "# 위치 인덱스\n",
    "s[0]"
   ]
  },
  {
   "cell_type": "code",
   "execution_count": 31,
   "id": "b9fbb7ff",
   "metadata": {},
   "outputs": [
    {
     "data": {
      "text/plain": [
       "9631482"
      ]
     },
     "execution_count": 31,
     "metadata": {},
     "output_type": "execute_result"
    }
   ],
   "source": [
    "# 라벨 인덱스\n",
    "s[\"서울\"]"
   ]
  },
  {
   "cell_type": "code",
   "execution_count": 32,
   "id": "a6cb6512",
   "metadata": {},
   "outputs": [
    {
     "data": {
      "text/plain": [
       "1    1\n",
       "2    2\n",
       "3    3\n",
       "dtype: int64"
      ]
     },
     "execution_count": 32,
     "metadata": {},
     "output_type": "execute_result"
    }
   ],
   "source": [
    "### 확인 예제 \n",
    "s_1 = pd.Series([1,2,3],index=[1,2,3])\n",
    "s_1"
   ]
  },
  {
   "cell_type": "code",
   "execution_count": 34,
   "id": "79062034",
   "metadata": {},
   "outputs": [
    {
     "data": {
      "text/plain": [
       "Int64Index([1, 2, 3], dtype='int64')"
      ]
     },
     "execution_count": 34,
     "metadata": {},
     "output_type": "execute_result"
    }
   ],
   "source": [
    "s_1.index\n"
   ]
  },
  {
   "cell_type": "code",
   "execution_count": 41,
   "id": "ad797649",
   "metadata": {},
   "outputs": [],
   "source": [
    "# s_1[0]  #인덱스 타입이 정수이면 위치 인덱스는 사용이 불가능 !!\n"
   ]
  },
  {
   "cell_type": "code",
   "execution_count": 43,
   "id": "88af37bd",
   "metadata": {},
   "outputs": [
    {
     "name": "stdout",
     "output_type": "stream",
     "text": [
      "서울    9631482\n",
      "부산    3393191\n",
      "인천    2632035\n",
      "대전    1490158\n",
      "dtype: int64\n"
     ]
    },
    {
     "data": {
      "text/plain": [
       "(1490158, 1490158)"
      ]
     },
     "execution_count": 43,
     "metadata": {},
     "output_type": "execute_result"
    }
   ],
   "source": [
    "# 한줄에 위치 인덱스, 문자 인덱스를 동시에 접근 \n",
    "print(s)\n",
    "s[3],s[\"대전\"] # ,콤마가 들어가면서 튜플이 생성 "
   ]
  },
  {
   "cell_type": "markdown",
   "id": "b063dd15",
   "metadata": {},
   "source": [
    "리스트 이용 인덱싱\n",
    "- 자료의 순서를 바꿔 반환하거나, 특정 자료 여러개를 선택할 때 사용 \n",
    "- 시리즈명 [[인덱스1,인덱스2,...]]"
   ]
  },
  {
   "cell_type": "code",
   "execution_count": 45,
   "id": "986f0491",
   "metadata": {},
   "outputs": [
    {
     "name": "stdout",
     "output_type": "stream",
     "text": [
      "서울    9631482\n",
      "부산    3393191\n",
      "인천    2632035\n",
      "대전    1490158\n",
      "dtype: int64\n"
     ]
    },
    {
     "data": {
      "text/plain": [
       "서울    9631482\n",
       "대전    1490158\n",
       "인천    2632035\n",
       "부산    3393191\n",
       "dtype: int64"
      ]
     },
     "execution_count": 45,
     "metadata": {},
     "output_type": "execute_result"
    }
   ],
   "source": [
    "print(s)\n",
    "s[[0,3,2,1]]"
   ]
  },
  {
   "cell_type": "code",
   "execution_count": 46,
   "id": "c035a9e4",
   "metadata": {},
   "outputs": [
    {
     "data": {
      "text/plain": [
       "서울    9631482\n",
       "인천    2632035\n",
       "dtype: int64"
      ]
     },
     "execution_count": 46,
     "metadata": {},
     "output_type": "execute_result"
    }
   ],
   "source": [
    "s[[\"서울\",\"인천\"]] # 특정자료만 선택"
   ]
  },
  {
   "cell_type": "markdown",
   "id": "31fedb5e",
   "metadata": {},
   "source": [
    "시리즈 슬라이싱을 이용한 인덱싱\n",
    "- 정수형 위치 인덱스를 사용한 슬라이싱\n",
    "-  시리즈[start:stop+1]\n",
    "- 문자(라벨)인덱스 이용 슬라이싱\n",
    "-  시리즈['시작라벨':'끝라벨'] : 표시된 라벨 범위 모두 추출\n",
    "    "
   ]
  },
  {
   "cell_type": "code",
   "execution_count": 48,
   "id": "6eecb244",
   "metadata": {},
   "outputs": [
    {
     "data": {
      "text/plain": [
       "서울    9631482\n",
       "부산    3393191\n",
       "인천    2632035\n",
       "대전    1490158\n",
       "dtype: int64"
      ]
     },
     "execution_count": 48,
     "metadata": {},
     "output_type": "execute_result"
    }
   ],
   "source": [
    "s"
   ]
  },
  {
   "cell_type": "code",
   "execution_count": 49,
   "id": "02382b6b",
   "metadata": {},
   "outputs": [
    {
     "data": {
      "text/plain": [
       "부산    3393191\n",
       "인천    2632035\n",
       "dtype: int64"
      ]
     },
     "execution_count": 49,
     "metadata": {},
     "output_type": "execute_result"
    }
   ],
   "source": [
    "s[1:3]"
   ]
  },
  {
   "cell_type": "code",
   "execution_count": 51,
   "id": "c84c0333",
   "metadata": {},
   "outputs": [
    {
     "data": {
      "text/plain": [
       "부산    3393191\n",
       "인천    2632035\n",
       "대전    1490158\n",
       "dtype: int64"
      ]
     },
     "execution_count": 51,
     "metadata": {},
     "output_type": "execute_result"
    }
   ],
   "source": [
    "s[\"부산\":\"대전\"]"
   ]
  },
  {
   "cell_type": "code",
   "execution_count": 52,
   "id": "63720842",
   "metadata": {},
   "outputs": [
    {
     "data": {
      "text/plain": [
       "1    1\n",
       "3    2\n",
       "5    3\n",
       "7    4\n",
       "dtype: int64"
      ]
     },
     "execution_count": 52,
     "metadata": {},
     "output_type": "execute_result"
    }
   ],
   "source": [
    "s_test = pd.Series([1,2,3,4],index=[1,3,5,7])\n",
    "s_test"
   ]
  },
  {
   "cell_type": "code",
   "execution_count": 55,
   "id": "3a0f7d5a",
   "metadata": {},
   "outputs": [
    {
     "data": {
      "text/plain": [
       "1    1\n",
       "3    2\n",
       "5    3\n",
       "7    4\n",
       "dtype: int64"
      ]
     },
     "execution_count": 55,
     "metadata": {},
     "output_type": "execute_result"
    }
   ],
   "source": [
    "s_test[1:10] # 출력 할 수잇는 값까지만 출력하고 끝 "
   ]
  },
  {
   "cell_type": "code",
   "execution_count": 56,
   "id": "13a88c70",
   "metadata": {},
   "outputs": [
    {
     "data": {
      "text/plain": [
       "서울    9631482\n",
       "부산    3393191\n",
       "인천    2632035\n",
       "대전    1490158\n",
       "dtype: int64"
      ]
     },
     "execution_count": 56,
     "metadata": {},
     "output_type": "execute_result"
    }
   ],
   "source": [
    "### 문자 인덱스인 경우에는 .(다트)를 이용해서 접근 할 수 있음\n",
    "s"
   ]
  },
  {
   "cell_type": "code",
   "execution_count": 59,
   "id": "6178e2f3",
   "metadata": {},
   "outputs": [
    {
     "name": "stdout",
     "output_type": "stream",
     "text": [
      "9631482\n",
      "2632035\n"
     ]
    }
   ],
   "source": [
    "print(s.서울)\n",
    "print(s.인천) \n",
    "# 문자인덱스에 큰따옴표 붙이면 안됨"
   ]
  },
  {
   "cell_type": "code",
   "execution_count": 60,
   "id": "44d8f5e2",
   "metadata": {},
   "outputs": [
    {
     "data": {
      "text/plain": [
       "1    1\n",
       "3    2\n",
       "5    3\n",
       "7    4\n",
       "dtype: int64"
      ]
     },
     "execution_count": 60,
     "metadata": {},
     "output_type": "execute_result"
    }
   ],
   "source": [
    "s_test"
   ]
  },
  {
   "cell_type": "markdown",
   "id": "8125cde8",
   "metadata": {},
   "source": [
    "인덱싱을 통한 데이터 업데이트\n",
    "- 시리즈명[인덱스] = 데이터값"
   ]
  },
  {
   "cell_type": "code",
   "execution_count": 61,
   "id": "b56a5685",
   "metadata": {},
   "outputs": [
    {
     "data": {
      "text/plain": [
       "서울    9631482\n",
       "부산    3393191\n",
       "인천    2632035\n",
       "대전    1490158\n",
       "dtype: int64"
      ]
     },
     "execution_count": 61,
     "metadata": {},
     "output_type": "execute_result"
    }
   ],
   "source": [
    "s"
   ]
  },
  {
   "cell_type": "code",
   "execution_count": 62,
   "id": "0785ec26",
   "metadata": {},
   "outputs": [
    {
     "data": {
      "text/plain": [
       "서울    10000000\n",
       "부산     3393191\n",
       "인천     2632035\n",
       "대전     1490158\n",
       "dtype: int64"
      ]
     },
     "execution_count": 62,
     "metadata": {},
     "output_type": "execute_result"
    }
   ],
   "source": [
    "s[\"서울\"]=10000000\n",
    "s"
   ]
  },
  {
   "cell_type": "markdown",
   "id": "2d1326bb",
   "metadata": {},
   "source": [
    "### 인덱스 재사용 가능"
   ]
  },
  {
   "cell_type": "code",
   "execution_count": 64,
   "id": "c6e6c762",
   "metadata": {},
   "outputs": [
    {
     "name": "stdout",
     "output_type": "stream",
     "text": [
      "Index(['서울', '부산', '인천', '대전'], dtype='object')\n"
     ]
    },
    {
     "data": {
      "text/plain": [
       "서울    0\n",
       "부산    1\n",
       "인천    2\n",
       "대전    3\n",
       "dtype: int32"
      ]
     },
     "execution_count": 64,
     "metadata": {},
     "output_type": "execute_result"
    }
   ],
   "source": [
    "print(s.index)\n",
    "s1 = pd.Series(np.arange(4),s.index)\n",
    "s1"
   ]
  },
  {
   "cell_type": "markdown",
   "id": "267bef15",
   "metadata": {},
   "source": [
    "### 벡터화 연산 \n",
    "- Numpy 배열처럼 Pandas의 시리즈도 벡터화 연산 가능\n",
    "- 벡터화 연산이란 집합적 자료형의 원소 각각을 독립적으로 계산을 진행하는 방법(단, 연산은 시리즈의 값에만 적용, 인덱스값은 변경불가)\n"
   ]
  },
  {
   "cell_type": "code",
   "execution_count": 66,
   "id": "65a49064",
   "metadata": {},
   "outputs": [
    {
     "data": {
      "text/plain": [
       "0    5\n",
       "1    6\n",
       "2    7\n",
       "dtype: int64"
      ]
     },
     "execution_count": 66,
     "metadata": {},
     "output_type": "execute_result"
    }
   ],
   "source": [
    "pd.Series([1,2,3])+4"
   ]
  },
  {
   "cell_type": "code",
   "execution_count": 67,
   "id": "d502833c",
   "metadata": {},
   "outputs": [
    {
     "data": {
      "text/plain": [
       "서울    10.000000\n",
       "부산     3.393191\n",
       "인천     2.632035\n",
       "대전     1.490158\n",
       "dtype: float64"
      ]
     },
     "execution_count": 67,
     "metadata": {},
     "output_type": "execute_result"
    }
   ],
   "source": [
    "s/1000000"
   ]
  },
  {
   "cell_type": "code",
   "execution_count": 68,
   "id": "f3232388",
   "metadata": {},
   "outputs": [
    {
     "data": {
      "text/plain": [
       "서울    470000000\n",
       "부산    159479977\n",
       "인천    123705645\n",
       "대전     70037426\n",
       "dtype: int64"
      ]
     },
     "execution_count": 68,
     "metadata": {},
     "output_type": "execute_result"
    }
   ],
   "source": [
    "s * 47"
   ]
  },
  {
   "cell_type": "code",
   "execution_count": 69,
   "id": "ac38d43d",
   "metadata": {},
   "outputs": [
    {
     "data": {
      "text/plain": [
       "부산    3393191\n",
       "인천    2632035\n",
       "dtype: int64"
      ]
     },
     "execution_count": 69,
     "metadata": {},
     "output_type": "execute_result"
    }
   ],
   "source": [
    "# 백터화 인덱싱 - 인덱싱에 조건식을 활용 할 수 있다 \n",
    "# 시리즈 s의 원소 값 중 2500000(250e4) 보다 크고 5000000(500e4) 보다 작은 원소를 추출 \n",
    "# 시리즈명[조건식] - 각 원소의 값 모두를 각각 조건식으로 확인해서 결과가 true인 원소만 추출 \n",
    "\n",
    "s[(s>250e4) & (s<500e4)]\n"
   ]
  },
  {
   "cell_type": "markdown",
   "id": "413227ce",
   "metadata": {},
   "source": [
    "#### **Boolean selection**\n",
    "  - boolean Series가 [ ]와 함께 사용되면 True 값에 해당하는 값만 새로 반환되는 Series객체에 포함됨\n",
    "  - 다중조건의 경우, &(and), |(or)를 사용하여 연결 가능"
   ]
  },
  {
   "cell_type": "code",
   "execution_count": 71,
   "id": "ee63945b",
   "metadata": {},
   "outputs": [
    {
     "data": {
      "text/plain": [
       "1     0\n",
       "2     1\n",
       "3     2\n",
       "4     3\n",
       "5     4\n",
       "6     5\n",
       "7     6\n",
       "8     7\n",
       "9     8\n",
       "10    9\n",
       "dtype: int32"
      ]
     },
     "execution_count": 71,
     "metadata": {},
     "output_type": "execute_result"
    }
   ],
   "source": [
    "s0 = pd.Series(np.arange(10), np.arange(10)+1)\n",
    "s0\n"
   ]
  },
  {
   "cell_type": "code",
   "execution_count": 72,
   "id": "df3244e9",
   "metadata": {},
   "outputs": [
    {
     "data": {
      "text/plain": [
       "1     False\n",
       "2     False\n",
       "3     False\n",
       "4     False\n",
       "5     False\n",
       "6     False\n",
       "7      True\n",
       "8      True\n",
       "9      True\n",
       "10     True\n",
       "dtype: bool"
      ]
     },
     "execution_count": 72,
     "metadata": {},
     "output_type": "execute_result"
    }
   ],
   "source": [
    "s0 > 5"
   ]
  },
  {
   "cell_type": "code",
   "execution_count": 73,
   "id": "16e41fd1",
   "metadata": {},
   "outputs": [
    {
     "data": {
      "text/plain": [
       "7     6\n",
       "8     7\n",
       "9     8\n",
       "10    9\n",
       "dtype: int32"
      ]
     },
     "execution_count": 73,
     "metadata": {},
     "output_type": "execute_result"
    }
   ],
   "source": [
    "s0[s0>5]"
   ]
  },
  {
   "cell_type": "code",
   "execution_count": 74,
   "id": "bbd6f38b",
   "metadata": {},
   "outputs": [
    {
     "data": {
      "text/plain": [
       "1    0\n",
       "3    2\n",
       "5    4\n",
       "7    6\n",
       "9    8\n",
       "dtype: int32"
      ]
     },
     "execution_count": 74,
     "metadata": {},
     "output_type": "execute_result"
    }
   ],
   "source": [
    "s0 % 2 ==0\n",
    "s0[s0 % 2 ==0]"
   ]
  },
  {
   "cell_type": "code",
   "execution_count": 75,
   "id": "38ecfe8c",
   "metadata": {},
   "outputs": [
    {
     "data": {
      "text/plain": [
       "array([False, False, False, False, False,  True,  True,  True,  True,\n",
       "        True])"
      ]
     },
     "execution_count": 75,
     "metadata": {},
     "output_type": "execute_result"
    }
   ],
   "source": [
    "s0.index > 5 #s0의 인덱스 값을 추출해서 벡터화 연산을 진행한것 "
   ]
  },
  {
   "cell_type": "code",
   "execution_count": 78,
   "id": "27b4f9b1",
   "metadata": {},
   "outputs": [
    {
     "data": {
      "text/plain": [
       "6     5\n",
       "7     6\n",
       "8     7\n",
       "9     8\n",
       "10    9\n",
       "dtype: int32"
      ]
     },
     "execution_count": 78,
     "metadata": {},
     "output_type": "execute_result"
    }
   ],
   "source": [
    "s0[s0.index > 5]"
   ]
  },
  {
   "cell_type": "code",
   "execution_count": 79,
   "id": "6c0000eb",
   "metadata": {},
   "outputs": [
    {
     "data": {
      "text/plain": [
       "Series([], dtype: int32)"
      ]
     },
     "execution_count": 79,
     "metadata": {},
     "output_type": "execute_result"
    }
   ],
   "source": [
    "s0[s0.index > 10]"
   ]
  },
  {
   "cell_type": "code",
   "execution_count": 80,
   "id": "f30dbdfb",
   "metadata": {},
   "outputs": [
    {
     "data": {
      "text/plain": [
       "10    9\n",
       "dtype: int32"
      ]
     },
     "execution_count": 80,
     "metadata": {},
     "output_type": "execute_result"
    }
   ],
   "source": [
    "s0[s0.index > 9]"
   ]
  },
  {
   "cell_type": "code",
   "execution_count": 81,
   "id": "aefdf702",
   "metadata": {},
   "outputs": [
    {
     "data": {
      "text/plain": [
       "3"
      ]
     },
     "execution_count": 81,
     "metadata": {},
     "output_type": "execute_result"
    }
   ],
   "source": [
    "(s0 >= 7).sum()  # 각 원소에 대해여 조건식의 결과값이 True인 원소의 개수 "
   ]
  },
  {
   "cell_type": "code",
   "execution_count": 82,
   "id": "2bb047e1",
   "metadata": {},
   "outputs": [
    {
     "name": "stdout",
     "output_type": "stream",
     "text": [
      "8     7\n",
      "9     8\n",
      "10    9\n",
      "dtype: int32\n"
     ]
    },
    {
     "data": {
      "text/plain": [
       "24"
      ]
     },
     "execution_count": 82,
     "metadata": {},
     "output_type": "execute_result"
    }
   ],
   "source": [
    "print(s0[s0>=7]) \n",
    "s0[s0>=7].sum() # 각 원소에 대해 대입한 조건식의 결과값이 True인 원소들의 합  "
   ]
  },
  {
   "cell_type": "code",
   "execution_count": 87,
   "id": "b42cc98a",
   "metadata": {},
   "outputs": [
    {
     "name": "stdout",
     "output_type": "stream",
     "text": [
      "a    1\n",
      "b    2\n",
      "c    3\n",
      "d    4\n",
      "dtype: int64\n"
     ]
    },
    {
     "data": {
      "text/plain": [
       "b    5\n",
       "c    6\n",
       "d    7\n",
       "a    8\n",
       "dtype: int64"
      ]
     },
     "execution_count": 87,
     "metadata": {},
     "output_type": "execute_result"
    }
   ],
   "source": [
    "num_s1 = pd.Series([1,2,3,4],index=['a','b','c','d'])\n",
    "num_s2 = pd.Series([5,6,7,8],index=['b','c','d','a'])\n",
    "print(num_s1)\n",
    "num_s2"
   ]
  },
  {
   "cell_type": "code",
   "execution_count": 86,
   "id": "c3cb5039",
   "metadata": {},
   "outputs": [
    {
     "data": {
      "text/plain": [
       "a     9\n",
       "b     7\n",
       "c     9\n",
       "d    11\n",
       "dtype: int64"
      ]
     },
     "execution_count": 86,
     "metadata": {},
     "output_type": "execute_result"
    }
   ],
   "source": [
    "num_s1 + num_s2 # 시리즈 간의 연산은 같은 인덱스를 찾아 진행 "
   ]
  },
  {
   "cell_type": "code",
   "execution_count": 88,
   "id": "b6023739",
   "metadata": {},
   "outputs": [
    {
     "name": "stdout",
     "output_type": "stream",
     "text": [
      "e    1\n",
      "b    2\n",
      "f    3\n",
      "g    4\n",
      "dtype: int64\n"
     ]
    },
    {
     "data": {
      "text/plain": [
       "b    5\n",
       "c    6\n",
       "d    7\n",
       "a    8\n",
       "dtype: int64"
      ]
     },
     "execution_count": 88,
     "metadata": {},
     "output_type": "execute_result"
    }
   ],
   "source": [
    "num_s3 = pd.Series([1,2,3,4],index=['e','b','f','g'])\n",
    "num_s4 = pd.Series([5,6,7,8],index=['b','c','d','a'])\n",
    "print(num_s3)\n",
    "num_s4"
   ]
  },
  {
   "cell_type": "code",
   "execution_count": 89,
   "id": "d56eb69d",
   "metadata": {},
   "outputs": [
    {
     "data": {
      "text/plain": [
       "a    NaN\n",
       "b    7.0\n",
       "c    NaN\n",
       "d    NaN\n",
       "e    NaN\n",
       "f    NaN\n",
       "g    NaN\n",
       "dtype: float64"
      ]
     },
     "execution_count": 89,
     "metadata": {},
     "output_type": "execute_result"
    }
   ],
   "source": [
    "num_s3 + num_s4 #b를 제외한 나머지 인덱스는 연산처리가 불가능해서 NaN값으로 처리"
   ]
  },
  {
   "cell_type": "code",
   "execution_count": 90,
   "id": "fa0352c2",
   "metadata": {},
   "outputs": [
    {
     "data": {
      "text/plain": [
       "array([4, 4, 4, 4], dtype=int64)"
      ]
     },
     "execution_count": 90,
     "metadata": {},
     "output_type": "execute_result"
    }
   ],
   "source": [
    "num_s4.values - num_s3.values\n",
    "# values속성을 사용하면 시리즈의 형태가 사라지므로 동일한 위치 원소들끼리 연산 \n",
    "# 시리즈의 values는 array 형태를 반환 "
   ]
  },
  {
   "cell_type": "markdown",
   "id": "43c6ba85",
   "metadata": {},
   "source": [
    "##### 딕셔너리 와 시리즈의 관계\n",
    "- 시리즈 객체는 라벨(문자)에 의해 인덱싱이 가능\n",
    "- 실질적으로는 라벨을 key로 가지는 딕셔너리 형과 같다고 볼 수 있음\n",
    "- 딕셔너리에서 제공하는 대부분의 연산자 사용 가능\n",
    "    - in 연산자 : T/F\n",
    "    - for 루프를 통해 각 원소의 key와 value에 접근 할수 있다."
   ]
  },
  {
   "cell_type": "code",
   "execution_count": 93,
   "id": "95cd15e2",
   "metadata": {},
   "outputs": [
    {
     "data": {
      "text/plain": [
       "서울    10000000\n",
       "부산     3393191\n",
       "인천     2632035\n",
       "대전     1490158\n",
       "dtype: int64"
      ]
     },
     "execution_count": 93,
     "metadata": {},
     "output_type": "execute_result"
    }
   ],
   "source": [
    "s"
   ]
  },
  {
   "cell_type": "code",
   "execution_count": 94,
   "id": "802421a9",
   "metadata": {},
   "outputs": [
    {
     "data": {
      "text/plain": [
       "True"
      ]
     },
     "execution_count": 94,
     "metadata": {},
     "output_type": "execute_result"
    }
   ],
   "source": [
    "\"서울\" in s"
   ]
  },
  {
   "cell_type": "code",
   "execution_count": 95,
   "id": "54320f71",
   "metadata": {},
   "outputs": [
    {
     "data": {
      "text/plain": [
       "True"
      ]
     },
     "execution_count": 95,
     "metadata": {},
     "output_type": "execute_result"
    }
   ],
   "source": [
    "\"대구\" not in s\n"
   ]
  },
  {
   "cell_type": "code",
   "execution_count": 96,
   "id": "bfc2c642",
   "metadata": {},
   "outputs": [
    {
     "data": {
      "text/plain": [
       "[('서울', 10000000), ('부산', 3393191), ('인천', 2632035), ('대전', 1490158)]"
      ]
     },
     "execution_count": 96,
     "metadata": {},
     "output_type": "execute_result"
    }
   ],
   "source": [
    "# 딕셔너리의 items()함수 시리즈에서도 사용 가능\n",
    "s.items() \n",
    "list(s.items())"
   ]
  },
  {
   "cell_type": "code",
   "execution_count": 97,
   "id": "91083136",
   "metadata": {},
   "outputs": [
    {
     "name": "stdout",
     "output_type": "stream",
     "text": [
      "서울 = 10000000\n",
      "부산 = 3393191\n",
      "인천 = 2632035\n",
      "대전 = 1490158\n"
     ]
    }
   ],
   "source": [
    "# 반복문을 활용해서 시리즈 각 원소 출력 코드\n",
    "for k,v in s.items() :\n",
    "    print('%s = %d' %(k,v))"
   ]
  },
  {
   "cell_type": "markdown",
   "id": "e35ae00b",
   "metadata": {},
   "source": [
    "### 시리즈 데이터의 갱신 / 추가 / 삭제 \n",
    "- 인덱싱을 이용하면 딕셔너리처럼 갱신 추가"
   ]
  },
  {
   "cell_type": "code",
   "execution_count": 98,
   "id": "81b12974",
   "metadata": {},
   "outputs": [
    {
     "data": {
      "text/plain": [
       "서울    10000000\n",
       "부산     3393191\n",
       "인천     2632035\n",
       "대전     1490158\n",
       "dtype: int64"
      ]
     },
     "execution_count": 98,
     "metadata": {},
     "output_type": "execute_result"
    }
   ],
   "source": [
    "s"
   ]
  },
  {
   "cell_type": "code",
   "execution_count": 99,
   "id": "c2271ba5",
   "metadata": {},
   "outputs": [
    {
     "data": {
      "text/plain": [
       "서울    10000000\n",
       "부산     8630000\n",
       "인천     2632035\n",
       "대전     1490158\n",
       "dtype: int64"
      ]
     },
     "execution_count": 99,
     "metadata": {},
     "output_type": "execute_result"
    }
   ],
   "source": [
    "s[\"부산\"] = 8630000\n",
    "s"
   ]
  },
  {
   "cell_type": "code",
   "execution_count": 102,
   "id": "f563047c",
   "metadata": {},
   "outputs": [
    {
     "data": {
      "text/plain": [
       "서울    10000000\n",
       "부산     8630000\n",
       "인천     2632035\n",
       "대구     1875000\n",
       "dtype: int64"
      ]
     },
     "execution_count": 102,
     "metadata": {},
     "output_type": "execute_result"
    }
   ],
   "source": [
    "s[\"대구\"] = 1875000\n",
    "s\n"
   ]
  },
  {
   "cell_type": "code",
   "execution_count": 101,
   "id": "e36d2ce1",
   "metadata": {},
   "outputs": [
    {
     "data": {
      "text/plain": [
       "서울    10000000\n",
       "부산     8630000\n",
       "인천     2632035\n",
       "대구     1875000\n",
       "dtype: int64"
      ]
     },
     "execution_count": 101,
     "metadata": {},
     "output_type": "execute_result"
    }
   ],
   "source": [
    "# 시리즈의 데이터를 삭제 : del 명령 사용 \n",
    "del s[\"대전\"]\n",
    "s"
   ]
  },
  {
   "cell_type": "markdown",
   "id": "66d69a11",
   "metadata": {},
   "source": [
    "### Series 함수\n",
    "#### **Series size, shape, unique, count, value_counts 함수**\n",
    " - size 속성: 개수 반환\n",
    " - shape  속성: 튜플형태로 shape반환\n",
    " - unique 함수: 유일한 값만 ndarray로 반환\n",
    " - count 함수: NaN을 제외한 개수를 반환\n",
    " - mean 함수: NaN을 제외한 평균 \n",
    " - value_counts 함수: NaN을 제외하고 각 값들의 빈도를 반환"
   ]
  },
  {
   "cell_type": "code",
   "execution_count": 103,
   "id": "8e85faad",
   "metadata": {},
   "outputs": [
    {
     "data": {
      "text/plain": [
       "0     1.0\n",
       "1     1.0\n",
       "2     2.0\n",
       "3     1.0\n",
       "4     2.0\n",
       "5     2.0\n",
       "6     2.0\n",
       "7     1.0\n",
       "8     1.0\n",
       "9     3.0\n",
       "10    3.0\n",
       "11    4.0\n",
       "12    5.0\n",
       "13    5.0\n",
       "14    7.0\n",
       "15    NaN\n",
       "dtype: float64"
      ]
     },
     "execution_count": 103,
     "metadata": {},
     "output_type": "execute_result"
    }
   ],
   "source": [
    "s1 = pd.Series([1, 1, 2, 1, 2, 2, 2, 1, 1, 3, 3, 4, 5, 5, 7, np.NaN])\n",
    "s1\n"
   ]
  },
  {
   "cell_type": "code",
   "execution_count": 104,
   "id": "0053f0d5",
   "metadata": {},
   "outputs": [
    {
     "data": {
      "text/plain": [
       "16"
      ]
     },
     "execution_count": 104,
     "metadata": {},
     "output_type": "execute_result"
    }
   ],
   "source": [
    "len(s1) #NaN값 포함"
   ]
  },
  {
   "cell_type": "code",
   "execution_count": 105,
   "id": "c7e3b981",
   "metadata": {},
   "outputs": [
    {
     "data": {
      "text/plain": [
       "16"
      ]
     },
     "execution_count": 105,
     "metadata": {},
     "output_type": "execute_result"
    }
   ],
   "source": [
    "s1.size#NaN값 포함한 개수"
   ]
  },
  {
   "cell_type": "code",
   "execution_count": 106,
   "id": "7edabd9f",
   "metadata": {},
   "outputs": [
    {
     "data": {
      "text/plain": [
       "(16,)"
      ]
     },
     "execution_count": 106,
     "metadata": {},
     "output_type": "execute_result"
    }
   ],
   "source": [
    "s1.shape #차원을 표현하기 때문에 튜플 형태로 출력 (16행 1열(,))"
   ]
  },
  {
   "cell_type": "code",
   "execution_count": 107,
   "id": "c341d0c7",
   "metadata": {},
   "outputs": [
    {
     "data": {
      "text/plain": [
       "array([ 1.,  2.,  3.,  4.,  5.,  7., nan])"
      ]
     },
     "execution_count": 107,
     "metadata": {},
     "output_type": "execute_result"
    }
   ],
   "source": [
    "s1.unique() #중복값을 제거한 원소 값 출력"
   ]
  },
  {
   "cell_type": "code",
   "execution_count": 108,
   "id": "77e7828d",
   "metadata": {},
   "outputs": [
    {
     "data": {
      "text/plain": [
       "15"
      ]
     },
     "execution_count": 108,
     "metadata": {},
     "output_type": "execute_result"
    }
   ],
   "source": [
    "s1.count() # NaN 값을 제거한 원소의 개수 "
   ]
  },
  {
   "cell_type": "code",
   "execution_count": 111,
   "id": "f1fd53aa",
   "metadata": {},
   "outputs": [
    {
     "name": "stdout",
     "output_type": "stream",
     "text": [
      "nan\n"
     ]
    },
    {
     "data": {
      "text/plain": [
       "2.0"
      ]
     },
     "execution_count": 111,
     "metadata": {},
     "output_type": "execute_result"
    }
   ],
   "source": [
    "a = np.array([2,2,2,2,2,np.NaN]) #결측치 포함 \n",
    "b = pd.Series(a)\n",
    "print(a.mean()) # np의 array를 평균계산 - nan이 포함되면 계산이 불가능해서 nan이 반환됨 \n",
    "b.mean()# 기본 nan값을 제외시키고 계산하도록 설정 됨 "
   ]
  },
  {
   "cell_type": "code",
   "execution_count": 112,
   "id": "b9bfbbf1",
   "metadata": {},
   "outputs": [
    {
     "data": {
      "text/plain": [
       "0     1.0\n",
       "1     1.0\n",
       "2     2.0\n",
       "3     1.0\n",
       "4     2.0\n",
       "5     2.0\n",
       "6     2.0\n",
       "7     1.0\n",
       "8     1.0\n",
       "9     3.0\n",
       "10    3.0\n",
       "11    4.0\n",
       "12    5.0\n",
       "13    5.0\n",
       "14    7.0\n",
       "15    NaN\n",
       "dtype: float64"
      ]
     },
     "execution_count": 112,
     "metadata": {},
     "output_type": "execute_result"
    }
   ],
   "source": [
    "s1"
   ]
  },
  {
   "cell_type": "code",
   "execution_count": 114,
   "id": "e7051139",
   "metadata": {},
   "outputs": [
    {
     "data": {
      "text/plain": [
       "2.6666666666666665"
      ]
     },
     "execution_count": 114,
     "metadata": {},
     "output_type": "execute_result"
    }
   ],
   "source": [
    "s1.mean()"
   ]
  },
  {
   "cell_type": "code",
   "execution_count": 116,
   "id": "b9fa4e9b",
   "metadata": {},
   "outputs": [
    {
     "data": {
      "text/plain": [
       "1.0    5\n",
       "2.0    4\n",
       "3.0    2\n",
       "5.0    2\n",
       "7.0    1\n",
       "4.0    1\n",
       "dtype: int64"
      ]
     },
     "execution_count": 116,
     "metadata": {},
     "output_type": "execute_result"
    }
   ],
   "source": [
    "s1.value_counts()# 각 원소들을 같은 값끼리 그룹을 만들고 그 그룹의 개수를 세서 반환 "
   ]
  },
  {
   "cell_type": "markdown",
   "id": "2460d5eb",
   "metadata": {},
   "source": [
    "## date_range함수\n",
    "- 시리즈의 인덱스에 날짜 데이터를 사용\n",
    "- 날짜표시 : \"년-월-일\""
   ]
  },
  {
   "cell_type": "code",
   "execution_count": 117,
   "id": "1c0b4bae",
   "metadata": {},
   "outputs": [
    {
     "data": {
      "text/plain": [
       "2018-10-07    200.0\n",
       "2018-10-08    195.0\n",
       "2018-10-09      NaN\n",
       "2018-10-10    205.0\n",
       "dtype: float64"
      ]
     },
     "execution_count": 117,
     "metadata": {},
     "output_type": "execute_result"
    }
   ],
   "source": [
    "index_date = ['2018-10-07','2018-10-08','2018-10-09','2018-10-10']\n",
    "s4 = pd.Series([200,195,np.nan, 205], index=index_date)\n",
    "s4"
   ]
  },
  {
   "cell_type": "code",
   "execution_count": 118,
   "id": "de95af5d",
   "metadata": {},
   "outputs": [
    {
     "data": {
      "text/plain": [
       "str"
      ]
     },
     "execution_count": 118,
     "metadata": {},
     "output_type": "execute_result"
    }
   ],
   "source": [
    "type(s4.index[0]) # 문자열 형태 "
   ]
  },
  {
   "cell_type": "markdown",
   "id": "4918a039",
   "metadata": {},
   "source": [
    "- 판다스 패키지의 date_range 함수 (날짜생성)\n",
    "    - pd.date_range(start=None, end=None, periods=None, freq='D')\n",
    "    - start : 시작날짜/ end= 끝날짜 / periods = 날짜 생성기간/ frep = 날짜 생성 주기\n",
    "    - start는 필수 옵션/end나 periods는 둘 중 하나가 있어야 함/ freq는 기본 Day로 설정"
   ]
  },
  {
   "cell_type": "code",
   "execution_count": 121,
   "id": "c98469ee",
   "metadata": {},
   "outputs": [
    {
     "data": {
      "text/plain": [
       "DatetimeIndex(['2018-10-01', '2018-10-02', '2018-10-03', '2018-10-04',\n",
       "               '2018-10-05', '2018-10-06', '2018-10-07', '2018-10-08',\n",
       "               '2018-10-09', '2018-10-10', '2018-10-11', '2018-10-12',\n",
       "               '2018-10-13', '2018-10-14', '2018-10-15', '2018-10-16',\n",
       "               '2018-10-17', '2018-10-18', '2018-10-19', '2018-10-20'],\n",
       "              dtype='datetime64[ns]', freq='D')"
      ]
     },
     "execution_count": 121,
     "metadata": {},
     "output_type": "execute_result"
    }
   ],
   "source": [
    "pd.date_range(start=\"2018-10-01\", end=\"2018-10-20\") #dtype='datetime64[ns] 데이트 타임 형태로 생성 "
   ]
  },
  {
   "cell_type": "code",
   "execution_count": 122,
   "id": "b538736d",
   "metadata": {},
   "outputs": [
    {
     "data": {
      "text/plain": [
       "DatetimeIndex(['2018-10-01', '2018-10-02', '2018-10-03', '2018-10-04',\n",
       "               '2018-10-05', '2018-10-06', '2018-10-07', '2018-10-08',\n",
       "               '2018-10-09', '2018-10-10', '2018-10-11', '2018-10-12',\n",
       "               '2018-10-13', '2018-10-14', '2018-10-15', '2018-10-16',\n",
       "               '2018-10-17', '2018-10-18', '2018-10-19', '2018-10-20'],\n",
       "              dtype='datetime64[ns]', freq='D')"
      ]
     },
     "execution_count": 122,
     "metadata": {},
     "output_type": "execute_result"
    }
   ],
   "source": [
    "pd.date_range(start=\"2018-10-01\", end=\"2018-10-20\",freq=\"d\") #freq 기본값 = \"d\""
   ]
  },
  {
   "cell_type": "code",
   "execution_count": 123,
   "id": "67372b5b",
   "metadata": {},
   "outputs": [
    {
     "data": {
      "text/plain": [
       "DatetimeIndex(['2018-10-01', '2018-10-04', '2018-10-07', '2018-10-10',\n",
       "               '2018-10-13', '2018-10-16', '2018-10-19'],\n",
       "              dtype='datetime64[ns]', freq='3D')"
      ]
     },
     "execution_count": 123,
     "metadata": {},
     "output_type": "execute_result"
    }
   ],
   "source": [
    "pd.date_range(start=\"2018-10-01\", end=\"2018-10-20\",freq=\"3d\") # 3일씩 증가 "
   ]
  },
  {
   "cell_type": "code",
   "execution_count": 124,
   "id": "01c3acd8",
   "metadata": {},
   "outputs": [
    {
     "data": {
      "text/plain": [
       "DatetimeIndex(['2018-10-07', '2018-10-14'], dtype='datetime64[ns]', freq='W-SUN')"
      ]
     },
     "execution_count": 124,
     "metadata": {},
     "output_type": "execute_result"
    }
   ],
   "source": [
    "pd.date_range(start=\"2018-10-01\", end=\"2018-10-20\",freq=\"w\") "
   ]
  },
  {
   "cell_type": "code",
   "execution_count": 125,
   "id": "946c7d38",
   "metadata": {},
   "outputs": [
    {
     "data": {
      "text/plain": [
       "DatetimeIndex(['2018-10-07', '2018-10-14', '2018-10-21', '2018-10-28'], dtype='datetime64[ns]', freq='W-SUN')"
      ]
     },
     "execution_count": 125,
     "metadata": {},
     "output_type": "execute_result"
    }
   ],
   "source": [
    "pd.date_range(start=\"2018-10-07\", periods=4, freq=\"w\")"
   ]
  },
  {
   "cell_type": "code",
   "execution_count": 126,
   "id": "3531b666",
   "metadata": {},
   "outputs": [
    {
     "data": {
      "text/plain": [
       "DatetimeIndex(['2018-10-31', '2018-11-30', '2018-12-31', '2019-01-31'], dtype='datetime64[ns]', freq='M')"
      ]
     },
     "execution_count": 126,
     "metadata": {},
     "output_type": "execute_result"
    }
   ],
   "source": [
    "pd.date_range(start=\"2018-10-07\", periods=4, freq=\"m\") #월말 "
   ]
  },
  {
   "cell_type": "code",
   "execution_count": 127,
   "id": "8dde0f46",
   "metadata": {},
   "outputs": [
    {
     "data": {
      "text/plain": [
       "DatetimeIndex(['2018-11-01', '2018-12-01', '2019-01-01', '2019-02-01'], dtype='datetime64[ns]', freq='MS')"
      ]
     },
     "execution_count": 127,
     "metadata": {},
     "output_type": "execute_result"
    }
   ],
   "source": [
    "pd.date_range(start=\"2018-10-07\", periods=4, freq=\"MS\") #월초를 나타낼때는 무조건 대문자(ms가 초의 단위를 표시하고있기 때문)"
   ]
  },
  {
   "cell_type": "code",
   "execution_count": 128,
   "id": "c03752dc",
   "metadata": {},
   "outputs": [
    {
     "data": {
      "text/plain": [
       "DatetimeIndex(['2019-01-01', '2019-04-01', '2019-07-01', '2019-10-01'], dtype='datetime64[ns]', freq='QS-JAN')"
      ]
     },
     "execution_count": 128,
     "metadata": {},
     "output_type": "execute_result"
    }
   ],
   "source": [
    "pd.date_range(start=\"2018-10-07\", periods=4, freq=\"QS\") # 분기의 첫째 날짜 생성하기(10월7일을 기준으로 다음 분기부터)"
   ]
  },
  {
   "cell_type": "code",
   "execution_count": 129,
   "id": "2f62aa05",
   "metadata": {},
   "outputs": [
    {
     "data": {
      "text/plain": [
       "DatetimeIndex(['2018-01-01', '2019-01-01', '2020-01-01', '2021-01-01'], dtype='datetime64[ns]', freq='AS-JAN')"
      ]
     },
     "execution_count": 129,
     "metadata": {},
     "output_type": "execute_result"
    }
   ],
   "source": [
    "pd.date_range(start=\"2018-1-1\", periods=4, freq=\"AS\") #연도 첫날 기준으로 4개의 연도 첫날짜 생성 "
   ]
  },
  {
   "cell_type": "code",
   "execution_count": 130,
   "id": "16aab1f0",
   "metadata": {},
   "outputs": [
    {
     "data": {
      "text/plain": [
       "DatetimeIndex(['2019-01-01', '2020-01-01', '2021-01-01', '2022-01-01'], dtype='datetime64[ns]', freq='AS-JAN')"
      ]
     },
     "execution_count": 130,
     "metadata": {},
     "output_type": "execute_result"
    }
   ],
   "source": [
    "pd.date_range(start=\"2018-1-20\", periods=4, freq=\"AS\") #연 초를 구하기때문에 다음년도 부터 생성 "
   ]
  }
 ],
 "metadata": {
  "kernelspec": {
   "display_name": "Python 3",
   "language": "python",
   "name": "python3"
  },
  "language_info": {
   "codemirror_mode": {
    "name": "ipython",
    "version": 3
   },
   "file_extension": ".py",
   "mimetype": "text/x-python",
   "name": "python",
   "nbconvert_exporter": "python",
   "pygments_lexer": "ipython3",
   "version": "3.8.8"
  }
 },
 "nbformat": 4,
 "nbformat_minor": 5
}
